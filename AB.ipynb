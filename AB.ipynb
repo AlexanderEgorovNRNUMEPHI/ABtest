{
 "cells": [
  {
   "cell_type": "code",
   "execution_count": 1,
   "metadata": {},
   "outputs": [
    {
     "name": "stdout",
     "output_type": "stream",
     "text": [
      "Populating the interactive namespace from numpy and matplotlib\n"
     ]
    }
   ],
   "source": [
    "import pandas as pd\n",
    "import numpy as np\n",
    "import matplotlib\n",
    "from matplotlib import pyplot as plt\n",
    "matplotlib.style.use('ggplot')\n",
    "%matplotlib inline\n",
    "%pylab inline\n",
    "import warnings\n",
    "warnings.filterwarnings('ignore')\n"
   ]
  },
  {
   "cell_type": "code",
   "execution_count": 2,
   "metadata": {},
   "outputs": [],
   "source": [
    "hw_abt_2_bybucket=pd.read_csv('D:/Techno/task7/hw_abt_2_bybucket.csv', header=0, delimiter='\\t')"
   ]
  },
  {
   "cell_type": "code",
   "execution_count": 3,
   "metadata": {},
   "outputs": [],
   "source": [
    "hw_abt_2_byuser=pd.read_csv('D:/Techno/task7/hw_abt_2_byuser.csv', header=0, delimiter='\\t')"
   ]
  },
  {
   "cell_type": "code",
   "execution_count": 4,
   "metadata": {},
   "outputs": [
    {
     "data": {
      "text/html": [
       "<div>\n",
       "<style scoped>\n",
       "    .dataframe tbody tr th:only-of-type {\n",
       "        vertical-align: middle;\n",
       "    }\n",
       "\n",
       "    .dataframe tbody tr th {\n",
       "        vertical-align: top;\n",
       "    }\n",
       "\n",
       "    .dataframe thead th {\n",
       "        text-align: right;\n",
       "    }\n",
       "</style>\n",
       "<table border=\"1\" class=\"dataframe\">\n",
       "  <thead>\n",
       "    <tr style=\"text-align: right;\">\n",
       "      <th></th>\n",
       "      <th>Unnamed: 0</th>\n",
       "      <th>group_id</th>\n",
       "      <th>metric_value</th>\n",
       "      <th>users</th>\n",
       "      <th>visits</th>\n",
       "      <th>churn_users</th>\n",
       "      <th>churn_visits</th>\n",
       "      <th>group</th>\n",
       "    </tr>\n",
       "  </thead>\n",
       "  <tbody>\n",
       "    <tr>\n",
       "      <th>0</th>\n",
       "      <td>0</td>\n",
       "      <td>8</td>\n",
       "      <td>6630.000</td>\n",
       "      <td>0</td>\n",
       "      <td>0</td>\n",
       "      <td>0</td>\n",
       "      <td>8</td>\n",
       "      <td>A</td>\n",
       "    </tr>\n",
       "    <tr>\n",
       "      <th>1</th>\n",
       "      <td>1</td>\n",
       "      <td>13</td>\n",
       "      <td>6933.976</td>\n",
       "      <td>0</td>\n",
       "      <td>0</td>\n",
       "      <td>1</td>\n",
       "      <td>6</td>\n",
       "      <td>B</td>\n",
       "    </tr>\n",
       "    <tr>\n",
       "      <th>2</th>\n",
       "      <td>2</td>\n",
       "      <td>10</td>\n",
       "      <td>8261.976</td>\n",
       "      <td>1</td>\n",
       "      <td>10</td>\n",
       "      <td>1</td>\n",
       "      <td>8</td>\n",
       "      <td>B</td>\n",
       "    </tr>\n",
       "    <tr>\n",
       "      <th>3</th>\n",
       "      <td>3</td>\n",
       "      <td>4</td>\n",
       "      <td>5522.000</td>\n",
       "      <td>1</td>\n",
       "      <td>9</td>\n",
       "      <td>1</td>\n",
       "      <td>7</td>\n",
       "      <td>A</td>\n",
       "    </tr>\n",
       "    <tr>\n",
       "      <th>4</th>\n",
       "      <td>4</td>\n",
       "      <td>16</td>\n",
       "      <td>5075.976</td>\n",
       "      <td>1</td>\n",
       "      <td>6</td>\n",
       "      <td>0</td>\n",
       "      <td>8</td>\n",
       "      <td>B</td>\n",
       "    </tr>\n",
       "    <tr>\n",
       "      <th>...</th>\n",
       "      <td>...</td>\n",
       "      <td>...</td>\n",
       "      <td>...</td>\n",
       "      <td>...</td>\n",
       "      <td>...</td>\n",
       "      <td>...</td>\n",
       "      <td>...</td>\n",
       "      <td>...</td>\n",
       "    </tr>\n",
       "    <tr>\n",
       "      <th>4995</th>\n",
       "      <td>4995</td>\n",
       "      <td>6</td>\n",
       "      <td>3666.000</td>\n",
       "      <td>1</td>\n",
       "      <td>4</td>\n",
       "      <td>1</td>\n",
       "      <td>5</td>\n",
       "      <td>A</td>\n",
       "    </tr>\n",
       "    <tr>\n",
       "      <th>4996</th>\n",
       "      <td>4996</td>\n",
       "      <td>12</td>\n",
       "      <td>6464.976</td>\n",
       "      <td>0</td>\n",
       "      <td>0</td>\n",
       "      <td>1</td>\n",
       "      <td>8</td>\n",
       "      <td>B</td>\n",
       "    </tr>\n",
       "    <tr>\n",
       "      <th>4997</th>\n",
       "      <td>4997</td>\n",
       "      <td>1</td>\n",
       "      <td>4335.000</td>\n",
       "      <td>0</td>\n",
       "      <td>0</td>\n",
       "      <td>0</td>\n",
       "      <td>8</td>\n",
       "      <td>A</td>\n",
       "    </tr>\n",
       "    <tr>\n",
       "      <th>4998</th>\n",
       "      <td>4998</td>\n",
       "      <td>13</td>\n",
       "      <td>6307.976</td>\n",
       "      <td>0</td>\n",
       "      <td>0</td>\n",
       "      <td>1</td>\n",
       "      <td>8</td>\n",
       "      <td>B</td>\n",
       "    </tr>\n",
       "    <tr>\n",
       "      <th>4999</th>\n",
       "      <td>4999</td>\n",
       "      <td>2</td>\n",
       "      <td>5051.000</td>\n",
       "      <td>0</td>\n",
       "      <td>0</td>\n",
       "      <td>1</td>\n",
       "      <td>8</td>\n",
       "      <td>A</td>\n",
       "    </tr>\n",
       "  </tbody>\n",
       "</table>\n",
       "<p>5000 rows × 8 columns</p>\n",
       "</div>"
      ],
      "text/plain": [
       "      Unnamed: 0  group_id  metric_value  users  visits  churn_users  \\\n",
       "0              0         8      6630.000      0       0            0   \n",
       "1              1        13      6933.976      0       0            1   \n",
       "2              2        10      8261.976      1      10            1   \n",
       "3              3         4      5522.000      1       9            1   \n",
       "4              4        16      5075.976      1       6            0   \n",
       "...          ...       ...           ...    ...     ...          ...   \n",
       "4995        4995         6      3666.000      1       4            1   \n",
       "4996        4996        12      6464.976      0       0            1   \n",
       "4997        4997         1      4335.000      0       0            0   \n",
       "4998        4998        13      6307.976      0       0            1   \n",
       "4999        4999         2      5051.000      0       0            1   \n",
       "\n",
       "      churn_visits group  \n",
       "0                8     A  \n",
       "1                6     B  \n",
       "2                8     B  \n",
       "3                7     A  \n",
       "4                8     B  \n",
       "...            ...   ...  \n",
       "4995             5     A  \n",
       "4996             8     B  \n",
       "4997             8     A  \n",
       "4998             8     B  \n",
       "4999             8     A  \n",
       "\n",
       "[5000 rows x 8 columns]"
      ]
     },
     "execution_count": 4,
     "metadata": {},
     "output_type": "execute_result"
    }
   ],
   "source": [
    "hw_abt_2_byuser"
   ]
  },
  {
   "cell_type": "code",
   "execution_count": 5,
   "metadata": {},
   "outputs": [],
   "source": [
    "test=(hw_abt_2_byuser['visits'] == 0) & (hw_abt_2_byuser['users'] != 0)"
   ]
  },
  {
   "cell_type": "code",
   "execution_count": 6,
   "metadata": {},
   "outputs": [
    {
     "data": {
      "text/plain": [
       "count      5000\n",
       "unique        2\n",
       "top       False\n",
       "freq       4783\n",
       "dtype: object"
      ]
     },
     "execution_count": 6,
     "metadata": {},
     "output_type": "execute_result"
    }
   ],
   "source": [
    "test.describe()"
   ]
  },
  {
   "cell_type": "markdown",
   "metadata": {},
   "source": [
    "Проведя проверку данных мы видим, что в результате ошибки логирования часть данных имеют неоднозначность: количество пользователей ненулевое, при нулевом числе посещений. Значению числа посещений в данном случае верить нельзя. Заменим их на средние."
   ]
  },
  {
   "cell_type": "code",
   "execution_count": 7,
   "metadata": {},
   "outputs": [],
   "source": [
    "hw_abt_2_byuser.loc[(hw_abt_2_byuser['visits'] == 0) & (hw_abt_2_byuser['users'] != 0), 'visits'] = hw_abt_2_byuser['visits'].mean()"
   ]
  },
  {
   "cell_type": "markdown",
   "metadata": {},
   "source": [
    "Отсортируем значения по группам для разделения на контрольную и экспериментальную."
   ]
  },
  {
   "cell_type": "code",
   "execution_count": 8,
   "metadata": {},
   "outputs": [
    {
     "data": {
      "text/plain": [
       "count     5000\n",
       "unique       2\n",
       "top          B\n",
       "freq      2549\n",
       "Name: group, dtype: object"
      ]
     },
     "execution_count": 8,
     "metadata": {},
     "output_type": "execute_result"
    }
   ],
   "source": [
    "hw_abt_2_byuser=hw_abt_2_byuser.sort_values(by='group')\n",
    "hw_abt_2_byuser=hw_abt_2_byuser.reset_index(drop=True)\n",
    "hw_abt_2_byuser['group'].describe()"
   ]
  },
  {
   "cell_type": "code",
   "execution_count": 9,
   "metadata": {},
   "outputs": [],
   "source": [
    "hw_abt_2_byuser_A=hw_abt_2_byuser[0:2451]"
   ]
  },
  {
   "cell_type": "code",
   "execution_count": 10,
   "metadata": {},
   "outputs": [],
   "source": [
    "hw_abt_2_byuser_B=hw_abt_2_byuser[2451:]"
   ]
  },
  {
   "cell_type": "code",
   "execution_count": 11,
   "metadata": {},
   "outputs": [
    {
     "data": {
      "text/html": [
       "<div>\n",
       "<style scoped>\n",
       "    .dataframe tbody tr th:only-of-type {\n",
       "        vertical-align: middle;\n",
       "    }\n",
       "\n",
       "    .dataframe tbody tr th {\n",
       "        vertical-align: top;\n",
       "    }\n",
       "\n",
       "    .dataframe thead th {\n",
       "        text-align: right;\n",
       "    }\n",
       "</style>\n",
       "<table border=\"1\" class=\"dataframe\">\n",
       "  <thead>\n",
       "    <tr style=\"text-align: right;\">\n",
       "      <th></th>\n",
       "      <th>Unnamed: 0</th>\n",
       "      <th>group_id</th>\n",
       "      <th>metric_value</th>\n",
       "      <th>users</th>\n",
       "      <th>visits</th>\n",
       "      <th>churn_users</th>\n",
       "      <th>churn_visits</th>\n",
       "      <th>group</th>\n",
       "    </tr>\n",
       "  </thead>\n",
       "  <tbody>\n",
       "    <tr>\n",
       "      <th>0</th>\n",
       "      <td>0</td>\n",
       "      <td>8</td>\n",
       "      <td>6630.0</td>\n",
       "      <td>0</td>\n",
       "      <td>0.0</td>\n",
       "      <td>0</td>\n",
       "      <td>8</td>\n",
       "      <td>A</td>\n",
       "    </tr>\n",
       "    <tr>\n",
       "      <th>1</th>\n",
       "      <td>2760</td>\n",
       "      <td>8</td>\n",
       "      <td>7490.0</td>\n",
       "      <td>0</td>\n",
       "      <td>0.0</td>\n",
       "      <td>0</td>\n",
       "      <td>8</td>\n",
       "      <td>A</td>\n",
       "    </tr>\n",
       "    <tr>\n",
       "      <th>2</th>\n",
       "      <td>2765</td>\n",
       "      <td>4</td>\n",
       "      <td>4838.0</td>\n",
       "      <td>1</td>\n",
       "      <td>28.0</td>\n",
       "      <td>1</td>\n",
       "      <td>7</td>\n",
       "      <td>A</td>\n",
       "    </tr>\n",
       "    <tr>\n",
       "      <th>3</th>\n",
       "      <td>2766</td>\n",
       "      <td>5</td>\n",
       "      <td>5936.0</td>\n",
       "      <td>0</td>\n",
       "      <td>0.0</td>\n",
       "      <td>1</td>\n",
       "      <td>6</td>\n",
       "      <td>A</td>\n",
       "    </tr>\n",
       "    <tr>\n",
       "      <th>4</th>\n",
       "      <td>2768</td>\n",
       "      <td>8</td>\n",
       "      <td>3158.0</td>\n",
       "      <td>1</td>\n",
       "      <td>5.0</td>\n",
       "      <td>0</td>\n",
       "      <td>8</td>\n",
       "      <td>A</td>\n",
       "    </tr>\n",
       "    <tr>\n",
       "      <th>...</th>\n",
       "      <td>...</td>\n",
       "      <td>...</td>\n",
       "      <td>...</td>\n",
       "      <td>...</td>\n",
       "      <td>...</td>\n",
       "      <td>...</td>\n",
       "      <td>...</td>\n",
       "      <td>...</td>\n",
       "    </tr>\n",
       "    <tr>\n",
       "      <th>2446</th>\n",
       "      <td>1389</td>\n",
       "      <td>3</td>\n",
       "      <td>8008.0</td>\n",
       "      <td>1</td>\n",
       "      <td>3.0</td>\n",
       "      <td>1</td>\n",
       "      <td>3</td>\n",
       "      <td>A</td>\n",
       "    </tr>\n",
       "    <tr>\n",
       "      <th>2447</th>\n",
       "      <td>1635</td>\n",
       "      <td>5</td>\n",
       "      <td>4063.0</td>\n",
       "      <td>1</td>\n",
       "      <td>9.0</td>\n",
       "      <td>1</td>\n",
       "      <td>7</td>\n",
       "      <td>A</td>\n",
       "    </tr>\n",
       "    <tr>\n",
       "      <th>2448</th>\n",
       "      <td>196</td>\n",
       "      <td>8</td>\n",
       "      <td>7552.0</td>\n",
       "      <td>0</td>\n",
       "      <td>0.0</td>\n",
       "      <td>0</td>\n",
       "      <td>7</td>\n",
       "      <td>A</td>\n",
       "    </tr>\n",
       "    <tr>\n",
       "      <th>2449</th>\n",
       "      <td>1550</td>\n",
       "      <td>1</td>\n",
       "      <td>7239.0</td>\n",
       "      <td>1</td>\n",
       "      <td>11.0</td>\n",
       "      <td>0</td>\n",
       "      <td>8</td>\n",
       "      <td>A</td>\n",
       "    </tr>\n",
       "    <tr>\n",
       "      <th>2450</th>\n",
       "      <td>37</td>\n",
       "      <td>6</td>\n",
       "      <td>7547.0</td>\n",
       "      <td>1</td>\n",
       "      <td>23.0</td>\n",
       "      <td>0</td>\n",
       "      <td>9</td>\n",
       "      <td>A</td>\n",
       "    </tr>\n",
       "  </tbody>\n",
       "</table>\n",
       "<p>2451 rows × 8 columns</p>\n",
       "</div>"
      ],
      "text/plain": [
       "      Unnamed: 0  group_id  metric_value  users  visits  churn_users  \\\n",
       "0              0         8        6630.0      0     0.0            0   \n",
       "1           2760         8        7490.0      0     0.0            0   \n",
       "2           2765         4        4838.0      1    28.0            1   \n",
       "3           2766         5        5936.0      0     0.0            1   \n",
       "4           2768         8        3158.0      1     5.0            0   \n",
       "...          ...       ...           ...    ...     ...          ...   \n",
       "2446        1389         3        8008.0      1     3.0            1   \n",
       "2447        1635         5        4063.0      1     9.0            1   \n",
       "2448         196         8        7552.0      0     0.0            0   \n",
       "2449        1550         1        7239.0      1    11.0            0   \n",
       "2450          37         6        7547.0      1    23.0            0   \n",
       "\n",
       "      churn_visits group  \n",
       "0                8     A  \n",
       "1                8     A  \n",
       "2                7     A  \n",
       "3                6     A  \n",
       "4                8     A  \n",
       "...            ...   ...  \n",
       "2446             3     A  \n",
       "2447             7     A  \n",
       "2448             7     A  \n",
       "2449             8     A  \n",
       "2450             9     A  \n",
       "\n",
       "[2451 rows x 8 columns]"
      ]
     },
     "execution_count": 11,
     "metadata": {},
     "output_type": "execute_result"
    }
   ],
   "source": [
    "hw_abt_2_byuser_A"
   ]
  },
  {
   "cell_type": "markdown",
   "metadata": {},
   "source": [
    "# Оценка равенства дисперсий исследуемых метрик в группах и проверка нормальности распределений"
   ]
  },
  {
   "cell_type": "markdown",
   "metadata": {},
   "source": [
    "Проведем проверку метрики metric_value на нормальность двумя способами: тест Колмогорова-Смирнова и тест Шапиро-Уилка для двух групп."
   ]
  },
  {
   "cell_type": "markdown",
   "metadata": {},
   "source": [
    "Группа А:"
   ]
  },
  {
   "cell_type": "code",
   "execution_count": 82,
   "metadata": {},
   "outputs": [
    {
     "name": "stdout",
     "output_type": "stream",
     "text": [
      "Distributions is not normal\n",
      "\n"
     ]
    }
   ],
   "source": [
    "from scipy.stats import kstest\n",
    "alpha = 0.05\n",
    "st = kstest(hw_abt_2_byuser_A['metric_value'], 'norm')\n",
    "print('Distributions is {}normal\\n'.format( {True:'not ',\n",
    "False:''}[st[1] < alpha]))"
   ]
  },
  {
   "cell_type": "code",
   "execution_count": 13,
   "metadata": {},
   "outputs": [
    {
     "name": "stdout",
     "output_type": "stream",
     "text": [
      "Distributions is not normal\n",
      "\n"
     ]
    }
   ],
   "source": [
    "from scipy.stats import shapiro\n",
    "alpha = 0.05\n",
    "st = shapiro(hw_abt_2_byuser_A['metric_value'])\n",
    "print('Distributions is {}normal\\n'.format( {True:'not ',\n",
    "False:''}[st[1] < alpha]))"
   ]
  },
  {
   "cell_type": "markdown",
   "metadata": {},
   "source": [
    "Оба теста говорят, что распределение не является нормальным на уровне значимости 5%. Построим Q-Q plot"
   ]
  },
  {
   "cell_type": "code",
   "execution_count": 14,
   "metadata": {},
   "outputs": [
    {
     "data": {
      "image/png": "[encoded data removed]",
      "text/plain": [
       "<Figure size 432x288 with 1 Axes>"
      ]
     },
     "metadata": {
      "needs_background": "light"
     },
     "output_type": "display_data"
    }
   ],
   "source": [
    "import numpy as np \n",
    "import pylab \n",
    "import scipy.stats as stats\n",
    "\n",
    "   \n",
    "stats.probplot(hw_abt_2_byuser_A['metric_value'], dist=\"norm\", plot=pylab)\n",
    "pylab.show()"
   ]
  },
  {
   "cell_type": "markdown",
   "metadata": {},
   "source": [
    "По  Q-Q plot складывается ощущение, что распределения очень близки к нормальному. Однако, мы не будем рисковать и в дальнейшем для проверки равенства дисперсий будем использовать тест Левена, который менее чувствителен к отклонению распределения от нормального."
   ]
  },
  {
   "cell_type": "markdown",
   "metadata": {},
   "source": [
    "Группа В:"
   ]
  },
  {
   "cell_type": "code",
   "execution_count": 15,
   "metadata": {},
   "outputs": [
    {
     "name": "stdout",
     "output_type": "stream",
     "text": [
      "Distributions is not normal\n",
      "\n"
     ]
    }
   ],
   "source": [
    "from scipy.stats import kstest\n",
    "alpha = 0.05\n",
    "st = kstest(hw_abt_2_byuser_B['metric_value'], 'norm')\n",
    "print('Distributions is {}normal\\n'.format( {True:'not ',\n",
    "False:''}[st[1] < alpha]))"
   ]
  },
  {
   "cell_type": "code",
   "execution_count": 16,
   "metadata": {},
   "outputs": [
    {
     "name": "stdout",
     "output_type": "stream",
     "text": [
      "Distributions is not normal\n",
      "\n"
     ]
    }
   ],
   "source": [
    "from scipy.stats import shapiro\n",
    "alpha = 0.05\n",
    "st = shapiro(hw_abt_2_byuser_B['metric_value'])\n",
    "print('Distributions is {}normal\\n'.format( {True:'not ',\n",
    "False:''}[st[1] < alpha]))"
   ]
  },
  {
   "cell_type": "code",
   "execution_count": 17,
   "metadata": {},
   "outputs": [
    {
     "data": {
      "image/png": "[encoded data removed]",
      "text/plain": [
       "<Figure size 432x288 with 1 Axes>"
      ]
     },
     "metadata": {
      "needs_background": "light"
     },
     "output_type": "display_data"
    }
   ],
   "source": [
    "import numpy as np \n",
    "import pylab \n",
    "import scipy.stats as stats\n",
    "\n",
    "   \n",
    "stats.probplot(hw_abt_2_byuser_B['metric_value'], dist=\"norm\", plot=pylab)\n",
    "pylab.show()"
   ]
  },
  {
   "cell_type": "markdown",
   "metadata": {},
   "source": [
    "Для группы B результат аналогичный, причем отклонения от нормального даже выше."
   ]
  },
  {
   "cell_type": "code",
   "execution_count": 18,
   "metadata": {},
   "outputs": [
    {
     "name": "stdout",
     "output_type": "stream",
     "text": [
      "Variances of distributions is equal\n",
      "\n"
     ]
    }
   ],
   "source": [
    "import numpy as np\n",
    "from scipy.stats import levene\n",
    "alpha = 0.05\n",
    "\n",
    "def levene_test(df1, df2, p_value = alpha):\n",
    "    st = levene(df1, df2)\n",
    "    print('Variances of distributions is {}equal\\n'.format( {True:'not ',False:''}[st[1] < p_value]))\n",
    "    \n",
    "levene_test(hw_abt_2_byuser_A['metric_value'], hw_abt_2_byuser_B['metric_value'])"
   ]
  },
  {
   "cell_type": "markdown",
   "metadata": {},
   "source": [
    "По критерию Левена на 5% уровне значимости дисперсии двух выборок можно признать равными"
   ]
  },
  {
   "cell_type": "markdown",
   "metadata": {},
   "source": [
    "Создадим собственные метрики. Например, будем считать долю успешных посещений сайта. Под успешными, будем понимать посещения, которые привели к целевому действию. Уберем все записи, где не было ниодного визита."
   ]
  },
  {
   "cell_type": "code",
   "execution_count": 19,
   "metadata": {},
   "outputs": [],
   "source": [
    "share_visits_A=hw_abt_2_byuser_A['visits']/(hw_abt_2_byuser_A['churn_visits']+hw_abt_2_byuser_A['visits'])"
   ]
  },
  {
   "cell_type": "code",
   "execution_count": 20,
   "metadata": {},
   "outputs": [],
   "source": [
    "share_visits_A=share_visits_A.dropna()"
   ]
  },
  {
   "cell_type": "code",
   "execution_count": 21,
   "metadata": {},
   "outputs": [],
   "source": [
    "share_visits_B=hw_abt_2_byuser_B['visits']/(hw_abt_2_byuser_B['churn_visits']+hw_abt_2_byuser_B['visits'])"
   ]
  },
  {
   "cell_type": "code",
   "execution_count": 22,
   "metadata": {},
   "outputs": [],
   "source": [
    "share_visits_B=share_visits_B.dropna()"
   ]
  },
  {
   "cell_type": "markdown",
   "metadata": {},
   "source": [
    "Группа А:"
   ]
  },
  {
   "cell_type": "code",
   "execution_count": 23,
   "metadata": {},
   "outputs": [
    {
     "name": "stdout",
     "output_type": "stream",
     "text": [
      "Distributions is not normal\n",
      "\n"
     ]
    }
   ],
   "source": [
    "from scipy.stats import kstest\n",
    "alpha = 0.05\n",
    "st = kstest(share_visits_A, 'norm')\n",
    "print('Distributions is {}normal\\n'.format( {True:'not ',\n",
    "False:''}[st[1] < alpha]))"
   ]
  },
  {
   "cell_type": "code",
   "execution_count": 24,
   "metadata": {},
   "outputs": [
    {
     "name": "stdout",
     "output_type": "stream",
     "text": [
      "Distributions is not normal\n",
      "\n"
     ]
    }
   ],
   "source": [
    "from scipy.stats import shapiro\n",
    "alpha = 0.05\n",
    "st = shapiro(share_visits_A)\n",
    "print('Distributions is {}normal\\n'.format( {True:'not ',\n",
    "False:''}[st[1] < alpha]))"
   ]
  },
  {
   "cell_type": "code",
   "execution_count": 25,
   "metadata": {},
   "outputs": [
    {
     "data": {
      "image/png": "[encoded data removed]",
      "text/plain": [
       "<Figure size 432x288 with 1 Axes>"
      ]
     },
     "metadata": {
      "needs_background": "light"
     },
     "output_type": "display_data"
    }
   ],
   "source": [
    "import numpy as np \n",
    "import pylab \n",
    "import scipy.stats as stats\n",
    "\n",
    "   \n",
    "stats.probplot(share_visits_A, dist=\"norm\", plot=pylab)\n",
    "pylab.show()"
   ]
  },
  {
   "cell_type": "markdown",
   "metadata": {},
   "source": [
    "Распределение данной метрики не является нормальным, что видно и на тестах и на QQ- plot."
   ]
  },
  {
   "cell_type": "markdown",
   "metadata": {},
   "source": [
    "Группа B:"
   ]
  },
  {
   "cell_type": "code",
   "execution_count": 26,
   "metadata": {},
   "outputs": [
    {
     "name": "stdout",
     "output_type": "stream",
     "text": [
      "Distributions is not normal\n",
      "\n"
     ]
    }
   ],
   "source": [
    "from scipy.stats import kstest\n",
    "alpha = 0.05\n",
    "st = kstest(share_visits_B, 'norm')\n",
    "print('Distributions is {}normal\\n'.format( {True:'not ',\n",
    "False:''}[st[1] < alpha]))"
   ]
  },
  {
   "cell_type": "code",
   "execution_count": 27,
   "metadata": {},
   "outputs": [
    {
     "name": "stdout",
     "output_type": "stream",
     "text": [
      "Distributions is not normal\n",
      "\n"
     ]
    }
   ],
   "source": [
    "from scipy.stats import shapiro\n",
    "alpha = 0.05\n",
    "st = shapiro(share_visits_B)\n",
    "print('Distributions is {}normal\\n'.format( {True:'not ',\n",
    "False:''}[st[1] < alpha]))"
   ]
  },
  {
   "cell_type": "code",
   "execution_count": 28,
   "metadata": {},
   "outputs": [
    {
     "data": {
      "image/png": "[encoded data removed]",
      "text/plain": [
       "<Figure size 432x288 with 1 Axes>"
      ]
     },
     "metadata": {
      "needs_background": "light"
     },
     "output_type": "display_data"
    }
   ],
   "source": [
    "import numpy as np \n",
    "import pylab \n",
    "import scipy.stats as stats\n",
    "\n",
    "   \n",
    "stats.probplot(share_visits_B, dist=\"norm\", plot=pylab)\n",
    "pylab.show()"
   ]
  },
  {
   "cell_type": "markdown",
   "metadata": {},
   "source": [
    "Для данной метрики распределение тоже не является нормальным. Просто для интереса попробуем сравнить, что дадут все виды тестов на равенство дисперсий. Доверять будем только тесту Левена."
   ]
  },
  {
   "cell_type": "code",
   "execution_count": 29,
   "metadata": {},
   "outputs": [
    {
     "name": "stdout",
     "output_type": "stream",
     "text": [
      "Variances of distributions is equal\n",
      "\n"
     ]
    }
   ],
   "source": [
    "levene_test(share_visits_A, share_visits_B)"
   ]
  },
  {
   "cell_type": "code",
   "execution_count": 30,
   "metadata": {},
   "outputs": [
    {
     "name": "stdout",
     "output_type": "stream",
     "text": [
      "Reject the H0: Var(X1) == Var(X2)\n",
      "\n"
     ]
    }
   ],
   "source": [
    "\n",
    "from scipy.stats import f_oneway\n",
    "alpha = 0.05\n",
    "st = f_oneway(share_visits_A, share_visits_B)\n",
    "print('{} the H0: Var(X1) == Var(X2)\\n'.format(\n",
    "{True:'Reject', False:'Confirm'}[st[1] > alpha]))"
   ]
  },
  {
   "cell_type": "code",
   "execution_count": 31,
   "metadata": {},
   "outputs": [
    {
     "name": "stdout",
     "output_type": "stream",
     "text": [
      "Variances of distributions is equal\n",
      "\n"
     ]
    }
   ],
   "source": [
    "from scipy.stats import bartlett\n",
    "alpha = 0.05\n",
    "def bartlett_test(df1, df2, p_value = alpha):\n",
    "    st = bartlett(df1, df2)\n",
    "    print('Variances of distributions is {}equal\\n'.format( {True:'not ', False:''}[st[1] < p_value]))\n",
    "\n",
    "bartlett_test(share_visits_A, share_visits_B)"
   ]
  },
  {
   "cell_type": "markdown",
   "metadata": {},
   "source": [
    "Тест Фишера дает результат отличный, от двух других тестов. Можно с натяжкой сказать, что он более чувствителен к нормальности распределения, чем тест Бартлетта."
   ]
  },
  {
   "cell_type": "markdown",
   "metadata": {},
   "source": [
    "В качестве метрики также рассмотрим долю ушедших от нас пользователей. Откуда также уберет случаи, когда пользователей не было вообще."
   ]
  },
  {
   "cell_type": "code",
   "execution_count": 32,
   "metadata": {},
   "outputs": [],
   "source": [
    "share_churn_users_A=hw_abt_2_byuser_A['users']/(hw_abt_2_byuser_A['churn_users']+hw_abt_2_byuser_A['users'])"
   ]
  },
  {
   "cell_type": "code",
   "execution_count": 33,
   "metadata": {},
   "outputs": [],
   "source": [
    "share_churn_users_A=share_churn_users_A.dropna()"
   ]
  },
  {
   "cell_type": "code",
   "execution_count": 34,
   "metadata": {},
   "outputs": [],
   "source": [
    "share_churn_users_B=hw_abt_2_byuser_B['users']/(hw_abt_2_byuser_B['churn_users']+hw_abt_2_byuser_B['users'])"
   ]
  },
  {
   "cell_type": "code",
   "execution_count": 35,
   "metadata": {},
   "outputs": [],
   "source": [
    "share_churn_users_B=share_churn_users_B.dropna()"
   ]
  },
  {
   "cell_type": "code",
   "execution_count": null,
   "metadata": {},
   "outputs": [],
   "source": []
  },
  {
   "cell_type": "markdown",
   "metadata": {},
   "source": [
    "Группа А:"
   ]
  },
  {
   "cell_type": "code",
   "execution_count": 36,
   "metadata": {},
   "outputs": [
    {
     "name": "stdout",
     "output_type": "stream",
     "text": [
      "Distributions is not normal\n",
      "\n"
     ]
    }
   ],
   "source": [
    "from scipy.stats import kstest\n",
    "alpha = 0.05\n",
    "st = kstest(share_churn_users_A, 'norm')\n",
    "print('Distributions is {}normal\\n'.format( {True:'not ',False:''}[st[1] < alpha]))"
   ]
  },
  {
   "cell_type": "code",
   "execution_count": 37,
   "metadata": {},
   "outputs": [
    {
     "name": "stdout",
     "output_type": "stream",
     "text": [
      "Distributions is not normal\n",
      "\n"
     ]
    }
   ],
   "source": [
    "from scipy.stats import shapiro\n",
    "alpha = 0.05\n",
    "st = shapiro(share_churn_users_A)\n",
    "print('Distributions is {}normal\\n'.format( {True:'not ',\n",
    "False:''}[st[1] < alpha]))"
   ]
  },
  {
   "cell_type": "code",
   "execution_count": 38,
   "metadata": {},
   "outputs": [
    {
     "data": {
      "image/png": "[encoded data removed]",
      "text/plain": [
       "<Figure size 432x288 with 1 Axes>"
      ]
     },
     "metadata": {
      "needs_background": "light"
     },
     "output_type": "display_data"
    }
   ],
   "source": [
    "import numpy as np \n",
    "import pylab \n",
    "import scipy.stats as stats\n",
    "\n",
    "   \n",
    "stats.probplot(share_churn_users_A, dist=\"norm\", plot=pylab)\n",
    "pylab.show()"
   ]
  },
  {
   "cell_type": "markdown",
   "metadata": {},
   "source": [
    "Распределение не является нормальным по всем показателям для группы А"
   ]
  },
  {
   "cell_type": "code",
   "execution_count": 39,
   "metadata": {},
   "outputs": [
    {
     "name": "stdout",
     "output_type": "stream",
     "text": [
      "Distributions is not normal\n",
      "\n"
     ]
    }
   ],
   "source": [
    "from scipy.stats import kstest\n",
    "alpha = 0.05\n",
    "st = kstest(share_churn_users_B, 'norm')\n",
    "print('Distributions is {}normal\\n'.format( {True:'not ',False:''}[st[1] < alpha]))"
   ]
  },
  {
   "cell_type": "code",
   "execution_count": 40,
   "metadata": {},
   "outputs": [
    {
     "name": "stdout",
     "output_type": "stream",
     "text": [
      "Distributions is not normal\n",
      "\n"
     ]
    }
   ],
   "source": [
    "from scipy.stats import shapiro\n",
    "alpha = 0.05\n",
    "st = shapiro(share_churn_users_B)\n",
    "print('Distributions is {}normal\\n'.format( {True:'not ',\n",
    "False:''}[st[1] < alpha]))"
   ]
  },
  {
   "cell_type": "code",
   "execution_count": 41,
   "metadata": {},
   "outputs": [
    {
     "data": {
      "image/png": "[encoded data removed]",
      "text/plain": [
       "<Figure size 432x288 with 1 Axes>"
      ]
     },
     "metadata": {
      "needs_background": "light"
     },
     "output_type": "display_data"
    }
   ],
   "source": [
    "import numpy as np \n",
    "import pylab \n",
    "import scipy.stats as stats\n",
    "\n",
    "   \n",
    "stats.probplot(share_churn_users_B, dist=\"norm\", plot=pylab)\n",
    "pylab.show()"
   ]
  },
  {
   "cell_type": "markdown",
   "metadata": {},
   "source": [
    "Распределение не является нормальным по всем показателям для группы В"
   ]
  },
  {
   "cell_type": "code",
   "execution_count": 42,
   "metadata": {},
   "outputs": [
    {
     "name": "stdout",
     "output_type": "stream",
     "text": [
      "Variances of distributions is not equal\n",
      "\n"
     ]
    }
   ],
   "source": [
    "levene_test(share_churn_users_A, share_churn_users_B)"
   ]
  },
  {
   "cell_type": "markdown",
   "metadata": {},
   "source": [
    "Тест Левена на 5% уровне значимости дает, что дисперсии двух распределений не равны."
   ]
  },
  {
   "cell_type": "markdown",
   "metadata": {},
   "source": [
    "# Проверка статистической значимости различий исследуемых метрик в выборках"
   ]
  },
  {
   "cell_type": "markdown",
   "metadata": {},
   "source": [
    "Метрика: metric_value"
   ]
  },
  {
   "cell_type": "code",
   "execution_count": 43,
   "metadata": {},
   "outputs": [
    {
     "name": "stdout",
     "output_type": "stream",
     "text": [
      "Counter({6451.0: 4, 4592.0: 4, 6630.0: 3, 6018.0: 3, 6813.0: 3, 7898.0: 3, 6154.0: 3, 6273.0: 3, 6208.0: 3, 8208.0: 3, 5684.0: 3, 5451.0: 3, 7558.0: 3, 5238.0: 3, 7455.0: 3, 7479.0: 3, 6779.0: 3, 7938.0: 3, 5107.0: 3, 6334.0: 3, 7018.0: 3, 4724.0: 3, 4523.0: 3, 5634.0: 3, 7592.0: 3, 4872.0: 3, 5162.0: 3, 5625.0: 3, 4991.0: 3, 6553.0: 3, 5499.0: 3, 8195.0: 3, 6923.0: 3, 5704.0: 3, 7166.0: 3, 7096.0: 3, 6996.0: 3, 7146.0: 3, 5896.0: 3, 3544.0: 3, 7821.0: 3, 5656.0: 3, 3101.0: 3, 5863.0: 3, 5490.0: 3, 6447.0: 3, 7245.0: 3, 4838.0: 2, 3158.0: 2, 8015.0: 2, 7650.0: 2, 6049.0: 2, 6641.0: 2, 5165.0: 2, 5293.0: 2, 7098.0: 2, 7761.0: 2, 4683.0: 2, 6988.0: 2, 5811.0: 2, 7328.0: 2, 7194.0: 2, 6560.0: 2, 8765.0: 2, 6880.0: 2, 6368.0: 2, 4539.0: 2, 6683.0: 2, 8397.0: 2, 5582.0: 2, 6418.0: 2, 6247.0: 2, 8877.0: 2, 7430.0: 2, 6845.0: 2, 6949.0: 2, 4190.0: 2, 2433.0: 2, 3075.0: 2, 3852.0: 2, 6199.0: 2, 4712.0: 2, 6332.0: 2, 4870.0: 2, 6943.0: 2, 5977.0: 2, 7406.0: 2, 5983.0: 2, 8665.0: 2, 5214.0: 2, 3898.0: 2, 6658.0: 2, 8513.0: 2, 6942.0: 2, 4702.0: 2, 6461.0: 2, 5136.0: 2, 4860.0: 2, 4977.0: 2, 4200.0: 2, 5348.0: 2, 3946.0: 2, 6075.0: 2, 5322.0: 2, 6119.0: 2, 7599.0: 2, 5605.0: 2, 8275.0: 2, 8082.0: 2, 5802.0: 2, 4579.0: 2, 7178.0: 2, 7025.0: 2, 7965.0: 2, 7176.0: 2, 6642.0: 2, 8639.0: 2, 8710.0: 2, 3673.0: 2, 5072.0: 2, 7289.0: 2, 6220.0: 2, 5854.0: 2, 6508.0: 2, 3956.0: 2, 5378.0: 2, 8313.0: 2, 5737.0: 2, 5504.0: 2, 7809.0: 2, 4846.0: 2, 7438.0: 2, 7493.0: 2, 5270.0: 2, 5664.0: 2, 4900.0: 2, 4540.0: 2, 7547.0: 2, 4459.0: 2, 8209.0: 2, 6374.0: 2, 5633.0: 2, 8589.0: 2, 7239.0: 2, 8415.0: 2, 4131.0: 2, 7048.0: 2, 3430.0: 2, 5706.0: 2, 8582.0: 2, 7313.0: 2, 7063.0: 2, 4180.0: 2, 7135.0: 2, 5994.0: 2, 8206.0: 2, 4612.0: 2, 5240.0: 2, 6155.0: 2, 5763.0: 2, 6673.0: 2, 8084.0: 2, 5675.0: 2, 5259.0: 2, 6180.0: 2, 5868.0: 2, 5984.0: 2, 4387.0: 2, 3569.0: 2, 3621.0: 2, 4570.0: 2, 4638.0: 2, 5557.0: 2, 5637.0: 2, 7530.0: 2, 6007.0: 2, 4266.0: 2, 7080.0: 2, 6308.0: 2, 5373.0: 2, 5890.0: 2, 5745.0: 2, 7611.0: 2, 6304.0: 2, 5788.0: 2, 5996.0: 2, 3778.0: 2, 6555.0: 2, 3531.0: 2, 3127.0: 2, 7930.0: 2, 5734.0: 2, 6688.0: 2, 5975.0: 2, 6197.0: 2, 4499.0: 2, 6924.0: 2, 3791.0: 2, 6392.0: 2, 7980.0: 2, 4410.0: 2, 6617.0: 2, 6618.0: 2, 7646.0: 2, 5981.0: 2, 3162.0: 2, 6525.0: 2, 6719.0: 2, 7387.0: 2, 8006.0: 2, 8107.0: 2, 5989.0: 2, 6690.0: 2, 5714.0: 2, 4114.0: 2, 6100.0: 2, 7042.0: 2, 3963.0: 2, 6395.0: 2, 6802.0: 2, 6550.0: 2, 8670.0: 2, 5990.0: 2, 4494.0: 2, 4246.0: 2, 7363.0: 2, 7501.0: 2, 5778.0: 2, 3863.0: 2, 4550.0: 2, 5502.0: 2, 5328.0: 2, 4777.0: 2, 7747.0: 2, 5999.0: 2, 7682.0: 2, 6594.0: 2, 5346.0: 2, 6322.0: 2, 6717.0: 2, 3593.0: 2, 6276.0: 2, 5821.0: 2, 8494.0: 2, 4674.0: 2, 5873.0: 2, 7554.0: 2, 2723.0: 2, 4360.0: 2, 7461.0: 2, 5709.0: 2, 8245.0: 2, 7009.0: 2, 5538.0: 2, 6404.0: 2, 4388.0: 2, 4591.0: 2, 4876.0: 2, 7945.0: 2, 5249.0: 2, 6438.0: 2, 3309.0: 2, 8447.0: 2, 5781.0: 2, 6323.0: 2, 5462.0: 2, 6377.0: 2, 6570.0: 2, 5234.0: 2, 8121.0: 2, 7229.0: 2, 8545.0: 2, 6936.0: 2, 8238.0: 2, 5940.0: 2, 4783.0: 2, 5701.0: 2, 6057.0: 2, 4744.0: 2, 5198.0: 2, 5577.0: 2, 3542.0: 2, 8008.0: 2, 5693.0: 2, 3858.0: 2, 5392.0: 2, 9111.0: 2, 5112.0: 2, 3216.0: 2, 6524.0: 2, 4398.0: 2, 8042.0: 2, 7924.0: 2, 6201.0: 2, 4586.0: 2, 4978.0: 2, 7869.0: 2, 4443.0: 2, 5058.0: 2, 5844.0: 2, 6487.0: 2, 5019.0: 2, 7308.0: 2, 5487.0: 2, 4757.0: 2, 6735.0: 2, 8445.0: 2, 5848.0: 2, 8362.0: 2, 5768.0: 2, 3845.0: 2, 6401.0: 2, 7365.0: 2, 6139.0: 2, 4726.0: 2, 6783.0: 2, 5253.0: 2, 6672.0: 2, 6340.0: 2, 4146.0: 2, 8928.0: 2, 5282.0: 2, 7182.0: 2, 3525.0: 2, 5199.0: 2, 7044.0: 2, 7071.0: 2, 5308.0: 2, 8088.0: 2, 7725.0: 2, 6590.0: 2, 5503.0: 2, 6576.0: 2, 7544.0: 2, 7506.0: 2, 7173.0: 2, 6625.0: 2, 4117.0: 2, 5105.0: 2, 6624.0: 2, 6867.0: 2, 6039.0: 2, 7015.0: 2, 6066.0: 2, 7920.0: 2, 5649.0: 2, 5318.0: 2, 7985.0: 2, 7712.0: 2, 6454.0: 2, 6077.0: 2, 6724.0: 2, 5971.0: 2, 6287.0: 2, 7880.0: 2, 8050.0: 2, 7470.0: 2, 6715.0: 2, 5982.0: 2, 4771.0: 2, 5321.0: 2, 4495.0: 2, 5407.0: 2, 6126.0: 2, 5208.0: 2, 8072.0: 2, 7490.0: 1, 5936.0: 1, 5673.0: 1, 6111.0: 1, 5188.0: 1, 5713.0: 1, 5866.0: 1, 4976.0: 1, 4245.0: 1, 4600.0: 1, 5185.0: 1, 8556.0: 1, 4973.0: 1, 3842.0: 1, 3570.0: 1, 7627.0: 1, 3282.0: 1, 3145.0: 1, 2842.0: 1, 9326.0: 1, 6961.0: 1, 6744.0: 1, 3164.0: 1, 9524.0: 1, 4585.0: 1, 7992.0: 1, 6695.0: 1, 7757.0: 1, 5404.0: 1, 3925.0: 1, 6710.0: 1, 7716.0: 1, 3087.0: 1, 5831.0: 1, 2519.0: 1, 4625.0: 1, 7800.0: 1, 6402.0: 1, 6254.0: 1, 3902.0: 1, 5824.0: 1, 6762.0: 1, 3783.0: 1, 6087.0: 1, 6818.0: 1, 6500.0: 1, 5836.0: 1, 6164.0: 1, 3504.0: 1, 7337.0: 1, 7034.0: 1, 6835.0: 1, 5041.0: 1, 5120.0: 1, 8067.0: 1, 4864.0: 1, 4304.0: 1, 4174.0: 1, 6263.0: 1, 8780.0: 1, 6726.0: 1, 3556.0: 1, 5648.0: 1, 6586.0: 1, 7535.0: 1, 7354.0: 1, 8385.0: 1, 6478.0: 1, 6809.0: 1, 8241.0: 1, 8291.0: 1, 9426.0: 1, 7495.0: 1, 3186.0: 1, 5306.0: 1, 9646.0: 1, 3862.0: 1, 4869.0: 1, 3068.0: 1, 3453.0: 1, 7803.0: 1, 4614.0: 1, 3626.0: 1, 4233.0: 1, 3018.0: 1, 3148.0: 1, 3741.0: 1, 6385.0: 1, 5327.0: 1, 3218.0: 1, 4608.0: 1, 5152.0: 1, 6515.0: 1, 6347.0: 1, 2404.0: 1, 3931.0: 1, 4496.0: 1, 8629.0: 1, 6921.0: 1, 7572.0: 1, 2982.0: 1, 7303.0: 1, 5937.0: 1, 7064.0: 1, 7305.0: 1, 5993.0: 1, 4452.0: 1, 9290.0: 1, 5283.0: 1, 3299.0: 1, 2490.0: 1, 7568.0: 1, 7486.0: 1, 5166.0: 1, 7676.0: 1, 7263.0: 1, 2905.0: 1, 5822.0: 1, 3528.0: 1, 2928.0: 1, 7262.0: 1, 4315.0: 1, 5440.0: 1, 5432.0: 1, 6668.0: 1, 4412.0: 1, 6442.0: 1, 5131.0: 1, 6148.0: 1, 3718.0: 1, 8630.0: 1, 5272.0: 1, 4580.0: 1, 2677.0: 1, 5857.0: 1, 4518.0: 1, 4138.0: 1, 9744.0: 1, 7358.0: 1, 7058.0: 1, 6015.0: 1, 7053.0: 1, 6109.0: 1, 7218.0: 1, 7318.0: 1, 3157.0: 1, 6189.0: 1, 5021.0: 1, 6176.0: 1, 8900.0: 1, 4721.0: 1, 7570.0: 1, 7981.0: 1, 6686.0: 1, 4350.0: 1, 7431.0: 1, 8711.0: 1, 7738.0: 1, 3993.0: 1, 4668.0: 1, 3424.0: 1, 6784.0: 1, 6834.0: 1, 2121.0: 1, 7674.0: 1, 8393.0: 1, 6571.0: 1, 9100.0: 1, 4815.0: 1, 3990.0: 1, 5722.0: 1, 8131.0: 1, 4981.0: 1, 6941.0: 1, 6851.0: 1, 7516.0: 1, 3381.0: 1, 8186.0: 1, 4672.0: 1, 3719.0: 1, 8026.0: 1, 7158.0: 1, 7468.0: 1, 7066.0: 1, 8162.0: 1, 4557.0: 1, 6165.0: 1, 5653.0: 1, 9055.0: 1, 5585.0: 1, 7433.0: 1, 5662.0: 1, 8917.0: 1, 7756.0: 1, 9052.0: 1, 4835.0: 1, 7628.0: 1, 3776.0: 1, 6177.0: 1, 3727.0: 1, 5550.0: 1, 5034.0: 1, 7411.0: 1, 5241.0: 1, 4756.0: 1, 4074.0: 1, 3038.0: 1, 8496.0: 1, 6174.0: 1, 5900.0: 1, 5785.0: 1, 7046.0: 1, 3483.0: 1, 7949.0: 1, 9931.0: 1, 5211.0: 1, 3749.0: 1, 6356.0: 1, 2612.0: 1, 6324.0: 1, 6060.0: 1, 6753.0: 1, 2605.0: 1, 8587.0: 1, 5938.0: 1, 8321.0: 1, 5535.0: 1, 7684.0: 1, 3331.0: 1, 4285.0: 1, 7057.0: 1, 9541.0: 1, 7655.0: 1, 3303.0: 1, 2997.0: 1, 3576.0: 1, 6161.0: 1, 6713.0: 1, 5095.0: 1, 4502.0: 1, 9016.0: 1, 5779.0: 1, 5269.0: 1, 2981.0: 1, 6008.0: 1, 6551.0: 1, 7115.0: 1, 3239.0: 1, 7399.0: 1, 4633.0: 1, 4497.0: 1, 6366.0: 1, 7145.0: 1, 5891.0: 1, 1343.0: 1, 5418.0: 1, 3696.0: 1, 7322.0: 1, 7915.0: 1, 7863.0: 1, 3822.0: 1, 5902.0: 1, 6972.0: 1, 2858.0: 1, 7128.0: 1, 4715.0: 1, 7304.0: 1, 5262.0: 1, 8039.0: 1, 7215.0: 1, 4663.0: 1, 6236.0: 1, 5310.0: 1, 6188.0: 1, 3698.0: 1, 8235.0: 1, 5276.0: 1, 4024.0: 1, 4546.0: 1, 8232.0: 1, 7671.0: 1, 8753.0: 1, 2547.0: 1, 6153.0: 1, 5020.0: 1, 8872.0: 1, 8327.0: 1, 4096.0: 1, 3362.0: 1, 2153.0: 1, 6115.0: 1, 6622.0: 1, 6824.0: 1, 4247.0: 1, 7027.0: 1, 3579.0: 1, 5736.0: 1, 6205.0: 1, 4626.0: 1, 3311.0: 1, 3819.0: 1, 7836.0: 1, 4886.0: 1, 8423.0: 1, 4705.0: 1, 5182.0: 1, 7708.0: 1, 6962.0: 1, 5826.0: 1, 6728.0: 1, 7463.0: 1, 6061.0: 1, 5922.0: 1, 7426.0: 1, 7076.0: 1, 9190.0: 1, 8079.0: 1, 7564.0: 1, 3717.0: 1, 4572.0: 1, 8426.0: 1, 8774.0: 1, 7181.0: 1, 7503.0: 1, 3690.0: 1, 7498.0: 1, 2805.0: 1, 4195.0: 1, 7350.0: 1, 6343.0: 1, 8898.0: 1, 7451.0: 1, 5510.0: 1, 9298.0: 1, 1860.0: 1, 7079.0: 1, 8044.0: 1, 4548.0: 1, 4159.0: 1, 7442.0: 1, 7656.0: 1, 5712.0: 1, 3367.0: 1, 7372.0: 1, 3151.0: 1, 6301.0: 1, 4087.0: 1, 7546.0: 1, 6865.0: 1, 8169.0: 1, 3513.0: 1, 8257.0: 1, 4273.0: 1, 9394.0: 1, 5777.0: 1, 6837.0: 1, 4584.0: 1, 8371.0: 1, 4279.0: 1, 7895.0: 1, 8230.0: 1, 6670.0: 1, 3659.0: 1, 6820.0: 1, 5578.0: 1, 1809.0: 1, 6439.0: 1, 4194.0: 1, 6362.0: 1, 5059.0: 1, 5206.0: 1, 9841.0: 1, 2340.0: 1, 4887.0: 1, 4001.0: 1, 8355.0: 1, 6977.0: 1, 6640.0: 1, 8412.0: 1, 3848.0: 1, 9070.0: 1, 6097.0: 1, 6871.0: 1, 7268.0: 1, 6974.0: 1, 5071.0: 1, 3159.0: 1, 6198.0: 1, 4752.0: 1, 6527.0: 1, 6288.0: 1, 6234.0: 1, 4148.0: 1, 6118.0: 1, 5225.0: 1, 4344.0: 1, 6583.0: 1, 8611.0: 1, 5908.0: 1, 6767.0: 1, 5877.0: 1, 8471.0: 1, 5948.0: 1, 5285.0: 1, 3988.0: 1, 5874.0: 1, 6279.0: 1, 5235.0: 1, 4709.0: 1, 6739.0: 1, 8994.0: 1, 4065.0: 1, 5385.0: 1, 7384.0: 1, 3693.0: 1, 8312.0: 1, 4522.0: 1, 3175.0: 1, 7482.0: 1, 6772.0: 1, 8304.0: 1, 6365.0: 1, 3478.0: 1, 6946.0: 1, 8154.0: 1, 6807.0: 1, 6473.0: 1, 4414.0: 1, 8336.0: 1, 3991.0: 1, 4993.0: 1, 5430.0: 1, 5333.0: 1, 8300.0: 1, 9144.0: 1, 7866.0: 1, 6746.0: 1, 5286.0: 1, 4898.0: 1, 7908.0: 1, 6361.0: 1, 7150.0: 1, 9601.0: 1, 8334.0: 1, 3202.0: 1, 4784.0: 1, 9017.0: 1, 6172.0: 1, 8147.0: 1, 3584.0: 1, 7753.0: 1, 2676.0: 1, 4223.0: 1, 6262.0: 1, 7165.0: 1, 8450.0: 1, 5964.0: 1, 6382.0: 1, 2544.0: 1, 6850.0: 1, 3444.0: 1, 4634.0: 1, 4555.0: 1, 9668.0: 1, 6629.0: 1, 9403.0: 1, 7531.0: 1, 8962.0: 1, 7446.0: 1, 2628.0: 1, 3349.0: 1, 5546.0: 1, 5509.0: 1, 5382.0: 1, 7423.0: 1, 6839.0: 1, 5773.0: 1, 3117.0: 1, 7013.0: 1, 3153.0: 1, 4596.0: 1, 8009.0: 1, 5433.0: 1, 7637.0: 1, 5357.0: 1, 3271.0: 1, 4009.0: 1, 5390.0: 1, 5967.0: 1, 7604.0: 1, 6701.0: 1, 5846.0: 1, 3104.0: 1, 4573.0: 1, 1447.0: 1, 4598.0: 1, 5217.0: 1, 5472.0: 1, 9798.0: 1, 8038.0: 1, 8002.0: 1, 3004.0: 1, 3565.0: 1, 4466.0: 1, 3354.0: 1, 7005.0: 1, 7402.0: 1, 3903.0: 1, 7244.0: 1, 4426.0: 1, 4772.0: 1, 6928.0: 1, 6391.0: 1, 6956.0: 1, 6011.0: 1, 6048.0: 1, 6503.0: 1, 5195.0: 1, 7450.0: 1, 2374.0: 1, 6554.0: 1, 4778.0: 1, 5365.0: 1, 7596.0: 1, 5744.0: 1, 4324.0: 1, 7386.0: 1, 7306.0: 1, 4419.0: 1, 8365.0: 1, 7772.0: 1, 3729.0: 1, 6521.0: 1, 5410.0: 1, 8035.0: 1, 6531.0: 1, 7264.0: 1, 8249.0: 1, 7528.0: 1, 6144.0: 1, 5371.0: 1, 4866.0: 1, 7937.0: 1, 4590.0: 1, 7789.0: 1, 3771.0: 1, 5252.0: 1, 8316.0: 1, 5237.0: 1, 6603.0: 1, 4354.0: 1, 4274.0: 1, 5761.0: 1, 2351.0: 1, 5851.0: 1, 4609.0: 1, 8597.0: 1, 3634.0: 1, 5818.0: 1, 6675.0: 1, 8864.0: 1, 3630.0: 1, 5843.0: 1, 9720.0: 1, 6464.0: 1, 7208.0: 1, 3999.0: 1, 7901.0: 1, 6476.0: 1, 4873.0: 1, 6050.0: 1, 2559.0: 1, 4858.0: 1, 3063.0: 1, 8183.0: 1, 6053.0: 1, 7491.0: 1, 6128.0: 1, 3674.0: 1, 9430.0: 1, 7075.0: 1, 5584.0: 1, 5907.0: 1, 4538.0: 1, 6326.0: 1, 5741.0: 1, 5039.0: 1, 7008.0: 1, 7810.0: 1, 7291.0: 1, 7492.0: 1, 6354.0: 1, 3837.0: 1, 4949.0: 1, 3296.0: 1, 3411.0: 1, 8027.0: 1, 5628.0: 1, 8435.0: 1, 3136.0: 1, 4281.0: 1, 5528.0: 1, 5881.0: 1, 7986.0: 1, 8585.0: 1, 6841.0: 1, 6035.0: 1, 6886.0: 1, 3523.0: 1, 4552.0: 1, 6178.0: 1, 5126.0: 1, 7782.0: 1, 8643.0: 1, 4111.0: 1, 8742.0: 1, 7370.0: 1, 4912.0: 1, 3943.0: 1, 8992.0: 1, 6671.0: 1, 5950.0: 1, 6659.0: 1, 5229.0: 1, 4907.0: 1, 2550.0: 1, 4517.0: 1, 3552.0: 1, 7621.0: 1, 3957.0: 1, 5928.0: 1, 8977.0: 1, 8272.0: 1, 5915.0: 1, 2401.0: 1, 3941.0: 1, 3204.0: 1, 7958.0: 1, 3800.0: 1, 8608.0: 1, 3715.0: 1, 6674.0: 1, 4574.0: 1, 6215.0: 1, 7366.0: 1, 4465.0: 1, 5595.0: 1, 3419.0: 1, 6490.0: 1, 5554.0: 1, 7871.0: 1, 9946.0: 1, 5572.0: 1, 4648.0: 1, 5483.0: 1, 4891.0: 1, 7687.0: 1, 8476.0: 1, 7755.0: 1, 7488.0: 1, 4435.0: 1, 2810.0: 1, 6065.0: 1, 4382.0: 1, 6210.0: 1, 7961.0: 1, 4407.0: 1, 5334.0: 1, 4748.0: 1, 5461.0: 1, 6261.0: 1, 3390.0: 1, 6649.0: 1, 4322.0: 1, 6371.0: 1, 8791.0: 1, 7847.0: 1, 5117.0: 1, 6925.0: 1, 6267.0: 1, 6497.0: 1, 9523.0: 1, 5466.0: 1, 3472.0: 1, 6426.0: 1, 2602.0: 1, 9992.0: 1, 8526.0: 1, 3285.0: 1, 7235.0: 1, 5239.0: 1, 7701.0: 1, 4621.0: 1, 5063.0: 1, 7068.0: 1, 8950.0: 1, 3343.0: 1, 8335.0: 1, 4831.0: 1, 3859.0: 1, 4857.0: 1, 4393.0: 1, 6185.0: 1, 2711.0: 1, 5784.0: 1, 6163.0: 1, 7294.0: 1, 8090.0: 1, 6584.0: 1, 4736.0: 1, 8744.0: 1, 4002.0: 1, 5331.0: 1, 6644.0: 1, 8633.0: 1, 8070.0: 1, 7067.0: 1, 2751.0: 1, 4509.0: 1, 4640.0: 1, 5296.0: 1, 8293.0: 1, 4298.0: 1, 5295.0: 1, 5438.0: 1, 3667.0: 1, 8466.0: 1, 6510.0: 1, 6621.0: 1, 6278.0: 1, 5194.0: 1, 5341.0: 1, 4851.0: 1, 2707.0: 1, 4770.0: 1, 2338.0: 1, 7295.0: 1, 7320.0: 1, 6862.0: 1, 8161.0: 1, 3262.0: 1, 3495.0: 1, 3259.0: 1, 7598.0: 1, 3666.0: 1, 4335.0: 1, 6934.0: 1, 5749.0: 1, 8763.0: 1, 7161.0: 1, 3641.0: 1, 1806.0: 1, 4918.0: 1, 2857.0: 1, 8011.0: 1, 5303.0: 1, 4078.0: 1, 4164.0: 1, 5170.0: 1, 6281.0: 1, 8328.0: 1, 6535.0: 1, 3986.0: 1, 8800.0: 1, 6589.0: 1, 3535.0: 1, 5076.0: 1, 7405.0: 1, 6815.0: 1, 9483.0: 1, 5893.0: 1, 6149.0: 1, 6877.0: 1, 7849.0: 1, 8132.0: 1, 5527.0: 1, 6328.0: 1, 3210.0: 1, 6194.0: 1, 5207.0: 1, 2930.0: 1, 3796.0: 1, 7942.0: 1, 7398.0: 1, 1689.0: 1, 3955.0: 1, 4120.0: 1, 5976.0: 1, 10862.0: 1, 6277.0: 1, 6611.0: 1, 3905.0: 1, 5492.0: 1, 5699.0: 1, 6840.0: 1, 2319.0: 1, 8692.0: 1, 5549.0: 1, 8296.0: 1, 6585.0: 1, 7238.0: 1, 8347.0: 1, 7586.0: 1, 4040.0: 1, 5396.0: 1, 6469.0: 1, 4853.0: 1, 6173.0: 1, 9141.0: 1, 9275.0: 1, 9163.0: 1, 2811.0: 1, 4349.0: 1, 5547.0: 1, 6893.0: 1, 7174.0: 1, 5872.0: 1, 4773.0: 1, 6289.0: 1, 8388.0: 1, 4292.0: 1, 6742.0: 1, 5827.0: 1, 5004.0: 1, 5467.0: 1, 7769.0: 1, 6657.0: 1, 3747.0: 1, 6259.0: 1, 6125.0: 1, 3307.0: 1, 8596.0: 1, 5972.0: 1, 5074.0: 1, 6141.0: 1, 1508.0: 1, 5794.0: 1, 5819.0: 1, 8986.0: 1, 6131.0: 1, 1775.0: 1, 6166.0: 1, 3965.0: 1, 4259.0: 1, 8033.0: 1, 6422.0: 1, 4789.0: 1, 7826.0: 1, 9896.0: 1, 8043.0: 1, 5000.0: 1, 8660.0: 1, 6190.0: 1, 7739.0: 1, 4779.0: 1, 7812.0: 1, 2059.0: 1, 4363.0: 1, 5242.0: 1, 7271.0: 1, 5719.0: 1, 7275.0: 1, 7170.0: 1, 8053.0: 1, 4185.0: 1, 2593.0: 1, 3762.0: 1, 8123.0: 1, 8353.0: 1, 3546.0: 1, 8722.0: 1, 2963.0: 1, 4737.0: 1, 8569.0: 1, 6203.0: 1, 4947.0: 1, 7481.0: 1, 6462.0: 1, 2910.0: 1, 3818.0: 1, 4365.0: 1, 5729.0: 1, 4809.0: 1, 6707.0: 1, 6023.0: 1, 5203.0: 1, 6089.0: 1, 7929.0: 1, 3000.0: 1, 5816.0: 1, 6874.0: 1, 4390.0: 1, 2252.0: 1, 9205.0: 1, 2583.0: 1, 7904.0: 1, 4129.0: 1, 6311.0: 1, 3670.0: 1, 7550.0: 1, 7414.0: 1, 2965.0: 1, 1902.0: 1, 6244.0: 1, 4152.0: 1, 3937.0: 1, 3135.0: 1, 7538.0: 1, 2546.0: 1, 5429.0: 1, 5960.0: 1, 5516.0: 1, 4017.0: 1, 8359.0: 1, 8525.0: 1, 7116.0: 1, 6559.0: 1, 5593.0: 1, 6898.0: 1, 7093.0: 1, 6047.0: 1, 4884.0: 1, 7577.0: 1, 7230.0: 1, 7688.0: 1, 1468.0: 1, 5640.0: 1, 9022.0: 1, 8749.0: 1, 3348.0: 1, 8727.0: 1, 4951.0: 1, 3653.0: 1, 4536.0: 1, 5929.0: 1, 6760.0: 1, 3448.0: 1, 7746.0: 1, 2760.0: 1, 2204.0: 1, 6680.0: 1, 4881.0: 1, 8094.0: 1, 4651.0: 1, 6885.0: 1, 7860.0: 1, 3867.0: 1, 6963.0: 1, 4961.0: 1, 9041.0: 1, 8223.0: 1, 3899.0: 1, 3482.0: 1, 6633.0: 1, 5861.0: 1, 6758.0: 1, 4282.0: 1, 9193.0: 1, 6142.0: 1, 5317.0: 1, 4650.0: 1, 3878.0: 1, 5015.0: 1, 7950.0: 1, 7946.0: 1, 7364.0: 1, 6803.0: 1, 5391.0: 1, 5601.0: 1, 7602.0: 1, 2373.0: 1, 9279.0: 1, 6857.0: 1, 5671.0: 1, 6937.0: 1, 3555.0: 1, 6800.0: 1, 5860.0: 1, 6528.0: 1, 7876.0: 1, 9755.0: 1, 5200.0: 1, 7285.0: 1, 5014.0: 1, 9446.0: 1, 7892.0: 1, 6721.0: 1, 4447.0: 1, 6410.0: 1, 7887.0: 1, 5197.0: 1, 6004.0: 1, 6696.0: 1, 4629.0: 1, 3677.0: 1, 6327.0: 1, 5845.0: 1, 5730.0: 1, 3823.0: 1, 8548.0: 1, 5912.0: 1, 4277.0: 1, 5374.0: 1, 7381.0: 1, 3527.0: 1, 6918.0: 1, 8253.0: 1, 9149.0: 1, 6526.0: 1, 4448.0: 1, 8220.0: 1, 4689.0: 1, 5350.0: 1, 7103.0: 1, 6507.0: 1, 7483.0: 1, 7819.0: 1, 6579.0: 1, 6914.0: 1, 8288.0: 1, 5694.0: 1, 7089.0: 1, 5823.0: 1, 6821.0: 1, 6363.0: 1, 8125.0: 1, 7394.0: 1, 7377.0: 1, 4956.0: 1, 5562.0: 1, 8265.0: 1, 3292.0: 1, 8718.0: 1, 8879.0: 1, 3115.0: 1, 6466.0: 1, 7560.0: 1, 1449.0: 1, 3866.0: 1, 4647.0: 1, 6434.0: 1, 8976.0: 1, 8061.0: 1, 6202.0: 1, 4808.0: 1, 5224.0: 1, 3230.0: 1, 9034.0: 1, 8971.0: 1, 6740.0: 1, 6384.0: 1, 4207.0: 1, 5025.0: 1, 6789.0: 1, 5085.0: 1, 7226.0: 1, 4890.0: 1, 9125.0: 1, 6032.0: 1, 5169.0: 1, 8561.0: 1, 8678.0: 1, 5517.0: 1, 7440.0: 1, 7217.0: 1, 4639.0: 1, 4052.0: 1, 7130.0: 1, 3816.0: 1, 7785.0: 1, 6242.0: 1, 8048.0: 1, 4967.0: 1, 3021.0: 1, 6381.0: 1, 4524.0: 1, 6417.0: 1, 9440.0: 1, 7754.0: 1, 5576.0: 1, 7346.0: 1, 4191.0: 1, 4254.0: 1, 5018.0: 1, 4332.0: 1, 5820.0: 1, 4753.0: 1, 5301.0: 1, 6399.0: 1, 4400.0: 1, 8180.0: 1, 5101.0: 1, 8077.0: 1, 5710.0: 1, 5718.0: 1, 4843.0: 1, 3935.0: 1, 2971.0: 1, 7597.0: 1, 4535.0: 1, 4510.0: 1, 7759.0: 1, 4531.0: 1, 5752.0: 1, 8972.0: 1, 7297.0: 1, 6170.0: 1, 7735.0: 1, 6987.0: 1, 3146.0: 1, 6094.0: 1, 4722.0: 1, 6274.0: 1, 5420.0: 1, 5895.0: 1, 9395.0: 1, 4310.0: 1, 9799.0: 1, 6825.0: 1, 5051.0: 1, 6794.0: 1, 5379.0: 1, 6912.0: 1, 5589.0: 1, 4975.0: 1, 4284.0: 1, 5380.0: 1, 9940.0: 1, 2262.0: 1, 3490.0: 1, 8446.0: 1, 7500.0: 1, 7388.0: 1, 6591.0: 1, 8931.0: 1, 4296.0: 1, 5094.0: 1, 10545.0: 1, 7737.0: 1, 8263.0: 1, 4734.0: 1, 6572.0: 1, 6580.0: 1, 4565.0: 1, 9202.0: 1, 3772.0: 1, 4179.0: 1, 8634.0: 1, 5495.0: 1, 5607.0: 1, 6014.0: 1, 7123.0: 1, 4446.0: 1, 3035.0: 1, 7332.0: 1, 4038.0: 1, 3951.0: 1, 4604.0: 1, 8920.0: 1, 8025.0: 1, 5927.0: 1, 6616.0: 1, 4325.0: 1, 4085.0: 1, 3443.0: 1, 5849.0: 1, 4511.0: 1, 6761.0: 1, 8963.0: 1, 6635.0: 1, 7865.0: 1, 5102.0: 1, 7443.0: 1, 7589.0: 1, 5140.0: 1, 3790.0: 1, 3235.0: 1, 4856.0: 1, 5284.0: 1, 5394.0: 1, 5674.0: 1, 4603.0: 1, 5364.0: 1, 6192.0: 1, 4318.0: 1, 6331.0: 1, 3628.0: 1, 8546.0: 1, 8189.0: 1, 7582.0: 1, 3412.0: 1, 5354.0: 1, 5201.0: 1, 9151.0: 1, 4985.0: 1, 7523.0: 1, 6604.0: 1, 3304.0: 1, 5786.0: 1, 5838.0: 1, 9971.0: 1, 4306.0: 1, 4644.0: 1, 5494.0: 1, 8583.0: 1, 3614.0: 1, 9789.0: 1, 5930.0: 1, 7007.0: 1, 4769.0: 1, 8248.0: 1, 7401.0: 1, 3704.0: 1, 6212.0: 1, 4059.0: 1, 6575.0: 1, 3613.0: 1, 5555.0: 1, 4920.0: 1, 4293.0: 1, 5473.0: 1, 6138.0: 1, 4637.0: 1, 6102.0: 1, 8020.0: 1, 3409.0: 1, 8616.0: 1, 6114.0: 1, 4455.0: 1, 5424.0: 1, 5678.0: 1, 7936.0: 1, 3805.0: 1, 6456.0: 1, 8687.0: 1, 6213.0: 1, 5600.0: 1, 5079.0: 1, 3284.0: 1, 6260.0: 1, 5796.0: 1, 6000.0: 1, 3441.0: 1, 7524.0: 1, 3263.0: 1, 3051.0: 1, 7536.0: 1, 5161.0: 1, 5155.0: 1, 7424.0: 1, 5643.0: 1, 6076.0: 1, 3617.0: 1, 5125.0: 1, 9110.0: 1, 7825.0: 1, 2522.0: 1, 5475.0: 1, 6233.0: 1, 1559.0: 1, 2597.0: 1, 10284.0: 1, 3792.0: 1, 8003.0: 1, 3860.0: 1, 6906.0: 1, 4829.0: 1, 6257.0: 1, 2777.0: 1, 6397.0: 1, 4766.0: 1, 6878.0: 1, 4209.0: 1, 6951.0: 1, 4706.0: 1, 4990.0: 1, 3551.0: 1, 5560.0: 1, 4205.0: 1, 3646.0: 1, 7148.0: 1, 4974.0: 1, 5338.0: 1, 7225.0: 1, 7360.0: 1, 6117.0: 1, 7698.0: 1, 3372.0: 1, 8989.0: 1, 3637.0: 1, 5177.0: 1, 4741.0: 1, 9155.0: 1, 8129.0: 1, 3464.0: 1, 7361.0: 1, 10073.0: 1, 5728.0: 1, 5879.0: 1, 3214.0: 1, 7254.0: 1, 5069.0: 1, 7625.0: 1, 4660.0: 1, 5027.0: 1, 7177.0: 1, 9576.0: 1, 5638.0: 1, 4928.0: 1, 3313.0: 1, 4507.0: 1, 5479.0: 1, 8580.0: 1, 4222.0: 1, 2375.0: 1, 6518.0: 1, 5314.0: 1, 4669.0: 1, 5337.0: 1, 7939.0: 1, 8590.0: 1, 5639.0: 1, 3788.0: 1, 3203.0: 1, 2363.0: 1, 6143.0: 1, 5273.0: 1, 4116.0: 1, 5751.0: 1, 4402.0: 1, 8871.0: 1, 6239.0: 1, 6175.0: 1, 6498.0: 1, 4460.0: 1, 4013.0: 1, 3491.0: 1, 7838.0: 1, 7380.0: 1, 4987.0: 1, 6781.0: 1, 3353.0: 1, 8087.0: 1, 4740.0: 1, 4775.0: 1, 8222.0: 1, 7273.0: 1, 4892.0: 1, 7282.0: 1, 6225.0: 1, 7638.0: 1, 3894.0: 1, 1868.0: 1, 3995.0: 1, 2990.0: 1, 6831.0: 1, 6537.0: 1, 5642.0: 1, 10403.0: 1, 6891.0: 1, 7143.0: 1, 8572.0: 1, 3306.0: 1, 7971.0: 1, 4498.0: 1, 7513.0: 1, 6103.0: 1, 5389.0: 1, 6096.0: 1, 10076.0: 1, 7127.0: 1, 7077.0: 1, 9818.0: 1, 1788.0: 1, 5108.0: 1, 8390.0: 1, 2299.0: 1, 6443.0: 1, 5024.0: 1, 4163.0: 1, 6882.0: 1, 5696.0: 1, 4845.0: 1, 2667.0: 1, 5163.0: 1, 8456.0: 1, 4477.0: 1, 5918.0: 1, 2579.0: 1, 3981.0: 1, 7323.0: 1, 7512.0: 1, 5809.0: 1, 3853.0: 1, 7932.0: 1, 6985.0: 1, 6905.0: 1, 4673.0: 1, 2107.0: 1, 2549.0: 1, 7434.0: 1, 5650.0: 1, 8250.0: 1, 5228.0: 1, 6786.0: 1, 5425.0: 1, 5533.0: 1, 4389.0: 1, 6600.0: 1, 9402.0: 1, 3557.0: 1, 6235.0: 1, 6922.0: 1, 7618.0: 1, 6303.0: 1, 4924.0: 1, 3545.0: 1, 3954.0: 1, 9217.0: 1, 7097.0: 1, 6349.0: 1, 8285.0: 1, 5882.0: 1, 4934.0: 1, 5667.0: 1, 2348.0: 1, 5343.0: 1, 3945.0: 1, 4181.0: 1, 4018.0: 1, 5413.0: 1, 7934.0: 1, 5520.0: 1, 7327.0: 1, 4193.0: 1, 4927.0: 1, 5028.0: 1, 9343.0: 1, 8610.0: 1, 6628.0: 1, 7542.0: 1, 10162.0: 1, 5965.0: 1, 2818.0: 1, 6775.0: 1, 6031.0: 1, 5319.0: 1, 4334.0: 1, 6380.0: 1, 4251.0: 1, 6264.0: 1, 5251.0: 1, 4211.0: 1, 4500.0: 1, 6714.0: 1, 4727.0: 1, 4142.0: 1, 6158.0: 1, 7520.0: 1, 7149.0: 1, 8473.0: 1, 5447.0: 1, 8443.0: 1, 5402.0: 1, 2912.0: 1, 6335.0: 1, 8537.0: 1, 5564.0: 1, 4485.0: 1, 7928.0: 1, 2994.0: 1, 3760.0: 1, 7830.0: 1, 8139.0: 1, 6423.0: 1, 6637.0: 1, 5452.0: 1, 4859.0: 1, 3806.0: 1, 3938.0: 1, 4309.0: 1, 6711.0: 1, 4064.0: 1, 7669.0: 1, 4416.0: 1, 7281.0: 1, 3598.0: 1, 6855.0: 1, 7467.0: 1, 9948.0: 1, 7504.0: 1, 4328.0: 1, 3707.0: 1, 7421.0: 1, 3732.0: 1, 4021.0: 1, 4236.0: 1, 7758.0: 1, 6488.0: 1, 5426.0: 1, 8671.0: 1, 4657.0: 1, 7717.0: 1, 4043.0: 1, 4027.0: 1, 6708.0: 1, 5257.0: 1, 6231.0: 1, 8057.0: 1, 5111.0: 1, 8343.0: 1, 7647.0: 1, 6990.0: 1, 10082.0: 1, 5403.0: 1, 7645.0: 1, 8185.0: 1, 4221.0: 1, 3312.0: 1, 7180.0: 1, 5304.0: 1, 5312.0: 1, 3962.0: 1, 6828.0: 1, 7696.0: 1, 6859.0: 1, 5077.0: 1, 5645.0: 1, 3947.0: 1, 7030.0: 1, 4451.0: 1, 9106.0: 1, 4595.0: 1, 8444.0: 1, 4743.0: 1, 4624.0: 1, 7400.0: 1, 5864.0: 1, 8140.0: 1, 7941.0: 1, 6552.0: 1, 6493.0: 1, 5725.0: 1, 9658.0: 1, 5579.0: 1, 8669.0: 1, 8062.0: 1, 8212.0: 1, 7389.0: 1, 4329.0: 1, 6055.0: 1, 2820.0: 1, 6875.0: 1, 5670.0: 1, 5602.0: 1, 3610.0: 1, 6245.0: 1, 8368.0: 1, 5436.0: 1, 6663.0: 1, 4610.0: 1, 7132.0: 1, 4695.0: 1, 3652.0: 1, 7121.0: 1, 5274.0: 1, 6387.0: 1, 6408.0: 1, 5532.0: 1, 8700.0: 1, 9736.0: 1, 4816.0: 1, 4469.0: 1, 6420.0: 1, 6756.0: 1, 8909.0: 1, 6400.0: 1, 4534.0: 1, 5618.0: 1, 8102.0: 1, 4301.0: 1, 6852.0: 1, 7094.0: 1, 3891.0: 1, 7348.0: 1, 5057.0: 1, 7522.0: 1, 6228.0: 1, 5153.0: 1, 4989.0: 1, 9484.0: 1, 6759.0: 1, 8894.0: 1, 5075.0: 1, 5481.0: 1, 3323.0: 1, 7330.0: 1, 9318.0: 1, 8988.0: 1, 7790.0: 1, 4578.0: 1, 5754.0: 1, 5986.0: 1, 7223.0: 1, 5377.0: 1, 6348.0: 1, 6777.0: 1, 10666.0: 1, 4227.0: 1, 9177.0: 1, 4326.0: 1, 4716.0: 1, 4654.0: 1, 7152.0: 1, 7780.0: 1, 6631.0: 1, 6122.0: 1, 5493.0: 1, 4521.0: 1, 4252.0: 1, 5522.0: 1, 8239.0: 1, 5743.0: 1, 4405.0: 1, 7975.0: 1, 5465.0: 1, 6135.0: 1, 8539.0: 1, 4782.0: 1, 5782.0: 1, 8069.0: 1, 5537.0: 1, 5658.0: 1, 7290.0: 1, 9418.0: 1, 6519.0: 1, 4694.0: 1, 5641.0: 1, 5558.0: 1, 8024.0: 1, 5609.0: 1, 5689.0: 1, 3611.0: 1, 5340.0: 1, 5054.0: 1, 7457.0: 1, 8837.0: 1, 7444.0: 1, 7227.0: 1, 4568.0: 1, 7643.0: 1, 4828.0: 1, 9056.0: 1, 7333.0: 1, 6352.0: 1, 3256.0: 1, 9203.0: 1, 3876.0: 1, 3276.0: 1, 8716.0: 1, 5543.0: 1, 2580.0: 1, 8120.0: 1, 2964.0: 1, 5408.0: 1, 5395.0: 1, 8656.0: 1, 6860.0: 1, 4063.0: 1, 7552.0: 1})\n"
     ]
    }
   ],
   "source": [
    "from collections import Counter\n",
    "counter = Counter(hw_abt_2_byuser_A['metric_value'])\n",
    "print(counter)"
   ]
  },
  {
   "cell_type": "code",
   "execution_count": 44,
   "metadata": {},
   "outputs": [
    {
     "name": "stdout",
     "output_type": "stream",
     "text": [
      "Counter({8060.976: 4, 8178.976: 4, 5760.976: 4, 6688.976: 4, 4900.976: 4, 7186.976: 4, 6744.976: 4, 8439.976: 4, 8186.976: 3, 7252.976: 3, 7592.976: 3, 5075.976: 3, 5662.976: 3, 4493.976: 3, 4970.976: 3, 6519.976: 3, 7217.976: 3, 7050.976: 3, 4323.976: 3, 6567.976: 3, 8158.976: 3, 8050.976: 3, 6007.976: 3, 6535.976: 3, 5923.976: 3, 8932.976: 3, 6904.976: 3, 6817.976: 3, 3417.9759999999997: 3, 3904.9759999999997: 3, 6042.976: 3, 5588.976: 3, 7041.976: 3, 6454.976: 3, 6805.976: 3, 8566.976: 3, 7586.976: 3, 6085.976: 3, 5499.976: 3, 4790.976: 3, 7295.976: 3, 6136.976: 3, 8343.976: 3, 4992.976: 3, 7837.976: 3, 6305.976: 3, 9872.976: 3, 7049.976: 3, 6564.976: 3, 6896.976: 3, 4764.976: 3, 4172.976: 3, 4468.976: 3, 5498.976: 3, 5761.976: 2, 4639.976: 2, 5083.976: 2, 5365.976: 2, 5168.976: 2, 5332.976: 2, 7453.976: 2, 8319.976: 2, 6106.976: 2, 8539.976: 2, 5174.976: 2, 6908.976: 2, 7491.976: 2, 7963.976: 2, 8760.976: 2, 4228.976: 2, 7119.976: 2, 7985.976: 2, 6067.976: 2, 8431.976: 2, 9292.976: 2, 5874.976: 2, 5006.976: 2, 7578.976: 2, 4024.9759999999997: 2, 5436.976: 2, 7954.976: 2, 8277.976: 2, 7066.976: 2, 5714.976: 2, 7856.976: 2, 9166.976: 2, 4293.976: 2, 6421.976: 2, 6335.976: 2, 5007.976: 2, 5548.976: 2, 7673.976: 2, 6897.976: 2, 5258.976: 2, 7744.976: 2, 8512.976: 2, 4324.976: 2, 6700.976: 2, 8882.976: 2, 5011.976: 2, 6107.976: 2, 6878.976: 2, 4213.976: 2, 4928.976: 2, 5608.976: 2, 9907.976: 2, 8138.976: 2, 6777.976: 2, 7309.976: 2, 8583.976: 2, 4507.976: 2, 5617.976: 2, 7296.976: 2, 7847.976: 2, 6377.976: 2, 5956.976: 2, 7224.976: 2, 4842.976: 2, 4623.976: 2, 4313.976: 2, 3469.9759999999997: 2, 5515.976: 2, 5996.976: 2, 6812.976: 2, 8448.976: 2, 4814.976: 2, 6933.976: 2, 6818.976: 2, 8261.976: 2, 6044.976: 2, 7543.976: 2, 5304.976: 2, 5555.976: 2, 6156.976: 2, 6306.976: 2, 5359.976: 2, 5815.976: 2, 5640.976: 2, 6650.976: 2, 3700.9759999999997: 2, 7798.976: 2, 6412.976: 2, 6598.976: 2, 7464.976: 2, 7521.976: 2, 7466.976: 2, 6710.976: 2, 5422.976: 2, 5749.976: 2, 5521.976: 2, 5599.976: 2, 7030.976: 2, 6396.976: 2, 3121.9759999999997: 2, 4841.976: 2, 8196.976: 2, 5686.976: 2, 7584.976: 2, 7423.976: 2, 6631.976: 2, 7422.976: 2, 7570.976: 2, 7740.976: 2, 5056.976: 2, 4610.976: 2, 3608.9759999999997: 2, 5878.976: 2, 6470.976: 2, 9132.976: 2, 6172.976: 2, 5214.976: 2, 9022.976: 2, 4331.976: 2, 5385.976: 2, 7968.976: 2, 5099.976: 2, 3487.9759999999997: 2, 8388.976: 2, 7919.976: 2, 6666.976: 2, 3682.9759999999997: 2, 7836.976: 2, 7229.976: 2, 5537.976: 2, 6909.976: 2, 6077.976: 2, 6997.976: 2, 5282.976: 2, 6027.976: 2, 8489.976: 2, 4733.976: 2, 8327.976: 2, 3517.9759999999997: 2, 5033.976: 2, 6582.976: 2, 5148.976: 2, 8562.976: 2, 6009.976: 2, 6297.976: 2, 5015.976: 2, 4757.976: 2, 6382.976: 2, 7540.976: 2, 8678.976: 2, 8814.976: 2, 7765.976: 2, 7738.976: 2, 6403.976: 2, 7817.976: 2, 7882.976: 2, 6221.976: 2, 5496.976: 2, 5063.976: 2, 5038.976: 2, 4795.976: 2, 5637.976: 2, 5479.976: 2, 6318.976: 2, 7754.976: 2, 6614.976: 2, 8755.976: 2, 7879.976: 2, 5042.976: 2, 8885.976: 2, 7323.976: 2, 5283.976: 2, 8055.976: 2, 6873.976: 2, 6529.976: 2, 7482.976: 2, 4771.976: 2, 4799.976: 2, 8300.976: 2, 5371.976: 2, 4436.976: 2, 4668.976: 2, 7020.976: 2, 4672.976: 2, 6393.976: 2, 5799.976: 2, 5297.976: 2, 5532.976: 2, 8167.976: 2, 6872.976: 2, 7039.976: 2, 7306.976: 2, 6171.976: 2, 7885.976: 2, 6450.976: 2, 5721.976: 2, 7199.976: 2, 6670.976: 2, 4875.976: 2, 6523.976: 2, 6980.976: 2, 5366.976: 2, 5891.976: 2, 3868.9759999999997: 2, 6189.976: 2, 5716.976: 2, 6343.976: 2, 6239.976: 2, 6460.976: 2, 8474.976: 2, 4291.976: 2, 7314.976: 2, 6222.976: 2, 6593.976: 2, 7878.976: 2, 4719.976: 2, 3269.9759999999997: 2, 7281.976: 2, 4960.976: 2, 3979.9759999999997: 2, 7541.976: 2, 8045.976: 2, 6825.976: 2, 5368.976: 2, 6504.976: 2, 8273.976: 2, 4739.976: 2, 9092.976: 2, 8049.976: 2, 6338.976: 2, 7455.976: 2, 6966.976: 2, 9400.976: 2, 7669.976: 2, 6548.976: 2, 7059.976: 2, 7236.976: 2, 7460.976: 2, 4941.976: 2, 7501.976: 2, 7942.976: 2, 5631.976: 2, 3655.9759999999997: 2, 6188.976: 2, 5320.976: 2, 7364.976: 2, 5558.976: 2, 4401.976: 2, 7441.976: 2, 8479.976: 2, 5964.976: 2, 7846.976: 2, 4800.976: 2, 5066.976: 2, 8623.976: 2, 3621.9759999999997: 2, 6102.976: 2, 8398.976: 2, 5383.976: 2, 5880.976: 2, 8665.976: 2, 6783.976: 2, 8923.976: 2, 5251.976: 2, 7956.976: 2, 7215.976: 2, 8115.976: 2, 5341.976: 2, 7624.976: 2, 7392.976: 2, 6816.976: 2, 5793.976: 2, 6809.976: 2, 8262.976: 2, 7967.976: 2, 5318.976: 2, 4722.976: 2, 8597.976: 2, 3613.9759999999997: 2, 4184.976: 2, 4837.976: 2, 5346.976: 2, 6982.976: 2, 4048.9759999999997: 2, 5303.976: 2, 7703.976: 2, 4245.976: 2, 8498.976: 2, 5244.976: 2, 4867.976: 2, 4388.976: 2, 6425.976: 2, 4088.9759999999997: 2, 7648.976: 2, 5603.976: 2, 5570.976: 2, 4940.976: 2, 4832.976: 2, 8342.976: 2, 5301.976: 2, 5943.976: 2, 7615.976: 2, 6327.976: 2, 7225.976: 2, 7617.976: 2, 8038.976: 2, 7730.976: 2, 4809.976: 2, 6553.976: 2, 5932.976: 2, 7310.976: 2, 6087.976: 2, 5538.976: 2, 6946.976: 2, 5331.976: 2, 4497.976: 2, 6289.976: 2, 6443.976: 2, 7668.976: 2, 7064.976: 2, 6004.976: 2, 5179.976: 2, 8291.976: 2, 8453.976: 2, 7981.976: 2, 6599.976: 2, 6095.976: 2, 7241.976: 2, 5529.976: 2, 6767.976: 2, 7917.976: 2, 6332.976: 2, 8881.976: 2, 3676.9759999999997: 2, 9026.976: 2, 5017.976: 2, 7962.976: 2, 7768.976: 2, 7548.976: 2, 4292.976: 2, 4974.976: 1, 8967.976: 1, 8270.976: 1, 8906.976: 1, 4640.976: 1, 5960.976: 1, 5167.976: 1, 6730.976: 1, 7142.976: 1, 7674.976: 1, 7769.976: 1, 7969.976: 1, 9039.976: 1, 5240.976: 1, 2255.976: 1, 6876.976: 1, 7101.976: 1, 7964.976: 1, 7353.976: 1, 4481.976: 1, 6177.976: 1, 4232.976: 1, 6407.976: 1, 6992.976: 1, 7810.976: 1, 6531.976: 1, 7776.976: 1, 6238.976: 1, 6291.976: 1, 7980.976: 1, 8031.976: 1, 4613.976: 1, 8305.976: 1, 6366.976: 1, 4877.976: 1, 8229.976: 1, 4456.976: 1, 9810.976: 1, 6242.976: 1, 6726.976: 1, 5595.976: 1, 5705.976: 1, 3780.9759999999997: 1, 8389.976: 1, 7707.976: 1, 4986.976: 1, 4500.976: 1, 3409.9759999999997: 1, 8776.976: 1, 5504.976: 1, 7893.976: 1, 3857.9759999999997: 1, 8400.976: 1, 5071.976: 1, 5698.976: 1, 10068.976: 1, 6923.976: 1, 5727.976: 1, 7433.976: 1, 3728.9759999999997: 1, 7149.976: 1, 7267.976: 1, 5788.976: 1, 6075.976: 1, 5638.976: 1, 6341.976: 1, 6503.976: 1, 4581.976: 1, 10585.976: 1, 4260.976: 1, 9069.976: 1, 5526.976: 1, 5819.976: 1, 7766.976: 1, 3552.9759999999997: 1, 2572.976: 1, 7727.976: 1, 3392.9759999999997: 1, 8500.976: 1, 8966.976: 1, 8666.976: 1, 8297.976: 1, 6920.976: 1, 5518.976: 1, 5032.976: 1, 8075.976: 1, 4382.976: 1, 5898.976: 1, 3799.9759999999997: 1, 6449.976: 1, 8252.976: 1, 9774.976: 1, 3453.9759999999997: 1, 6447.976: 1, 5652.976: 1, 4037.9759999999997: 1, 4208.976: 1, 6313.976: 1, 7164.976: 1, 7602.976: 1, 4976.976: 1, 7818.976: 1, 5968.976: 1, 6877.976: 1, 6829.976: 1, 8295.976: 1, 4562.976: 1, 5544.976: 1, 4073.9759999999997: 1, 7158.976: 1, 9102.976: 1, 8078.976: 1, 7595.976: 1, 5536.976: 1, 6333.976: 1, 4958.976: 1, 7638.976: 1, 8110.976: 1, 9483.976: 1, 5220.976: 1, 6409.976: 1, 6133.976: 1, 6847.976: 1, 6105.976: 1, 4380.976: 1, 8667.976: 1, 8092.976: 1, 4865.976: 1, 3876.9759999999997: 1, 6197.976: 1, 5950.976: 1, 3960.9759999999997: 1, 7103.976: 1, 3886.9759999999997: 1, 1994.976: 1, 6842.976: 1, 3035.9759999999997: 1, 8434.976: 1, 5155.976: 1, 6820.976: 1, 7254.976: 1, 10233.976: 1, 3962.9759999999997: 1, 5502.976: 1, 6315.976: 1, 7080.976: 1, 2752.9759999999997: 1, 4878.976: 1, 5456.976: 1, 6129.976: 1, 8536.976: 1, 7034.976: 1, 8314.976: 1, 7965.976: 1, 9986.976: 1, 7792.976: 1, 3496.9759999999997: 1, 8833.976: 1, 4466.976: 1, 6348.976: 1, 8119.976: 1, 5061.976: 1, 4486.976: 1, 5103.976: 1, 7987.976: 1, 6003.976: 1, 8271.976: 1, 5389.976: 1, 9620.976: 1, 8446.976: 1, 8023.976: 1, 8532.976: 1, 7093.976: 1, 7611.976: 1, 5995.976: 1, 2616.976: 1, 8269.976: 1, 7590.976: 1, 7901.976: 1, 8459.976: 1, 9126.976: 1, 6213.976: 1, 9162.976: 1, 3472.9759999999997: 1, 6963.976: 1, 7027.976: 1, 9009.976: 1, 7370.976: 1, 6558.976: 1, 5540.976: 1, 8414.976: 1, 7420.976: 1, 6464.976: 1, 3669.9759999999997: 1, 4827.976: 1, 8189.976: 1, 5627.976: 1, 6279.976: 1, 4288.976: 1, 7072.976: 1, 5676.976: 1, 8424.976: 1, 6163.976: 1, 2413.976: 1, 5262.976: 1, 7506.976: 1, 6174.976: 1, 5539.976: 1, 7197.976: 1, 8116.976: 1, 6634.976: 1, 5404.976: 1, 4942.976: 1, 8601.976: 1, 5805.976: 1, 7011.976: 1, 8549.976: 1, 7524.976: 1, 7791.976: 1, 7063.976: 1, 7479.976: 1, 5657.976: 1, 6887.976: 1, 5512.976: 1, 8602.976: 1, 8469.976: 1, 3838.9759999999997: 1, 4211.976: 1, 7736.976: 1, 5259.976: 1, 5417.976: 1, 8149.976: 1, 8383.976: 1, 6057.976: 1, 3083.9759999999997: 1, 4034.9759999999997: 1, 7532.976: 1, 9017.976: 1, 9315.976: 1, 3850.9759999999997: 1, 6662.976: 1, 4294.976: 1, 7289.976: 1, 7108.976: 1, 6383.976: 1, 2801.9759999999997: 1, 7017.976: 1, 4872.976: 1, 6212.976: 1, 7604.976: 1, 3917.9759999999997: 1, 6113.976: 1, 5758.976: 1, 8480.976: 1, 5463.976: 1, 9952.976: 1, 7690.976: 1, 3919.9759999999997: 1, 6867.976: 1, 6585.976: 1, 8272.976: 1, 9600.976: 1, 6864.976: 1, 5276.976: 1, 6128.976: 1, 5123.976: 1, 10050.976: 1, 8933.976: 1, 4770.976: 1, 6277.976: 1, 4109.976: 1, 5501.976: 1, 7824.976: 1, 7812.976: 1, 6989.976: 1, 8948.976: 1, 7315.976: 1, 6552.976: 1, 4229.976: 1, 8866.976: 1, 7665.976: 1, 5658.976: 1, 9285.976: 1, 5181.976: 1, 9479.976: 1, 5370.976: 1, 4858.976: 1, 8660.976: 1, 6699.976: 1, 10031.976: 1, 7753.976: 1, 4779.976: 1, 6858.976: 1, 6706.976: 1, 8905.976: 1, 2399.976: 1, 8086.976: 1, 5095.976: 1, 5914.976: 1, 8501.976: 1, 6270.976: 1, 7739.976: 1, 5666.976: 1, 7376.976: 1, 5035.976: 1, 2133.976: 1, 8299.976: 1, 6917.976: 1, 4950.976: 1, 6428.976: 1, 8612.976: 1, 5613.976: 1, 6749.976: 1, 7274.976: 1, 6216.976: 1, 3492.9759999999997: 1, 8484.976: 1, 9890.976: 1, 10226.976: 1, 4843.976: 1, 7427.976: 1, 5575.976: 1, 6053.976: 1, 4189.976: 1, 4973.976: 1, 8041.976: 1, 9753.976: 1, 5503.976: 1, 8695.976: 1, 2122.976: 1, 7912.976: 1, 7382.976: 1, 7351.976: 1, 7823.976: 1, 6466.976: 1, 7559.976: 1, 4443.976: 1, 7154.976: 1, 7379.976: 1, 8543.976: 1, 7157.976: 1, 3197.9759999999997: 1, 4349.976: 1, 7752.976: 1, 5677.976: 1, 6296.976: 1, 7936.976: 1, 5274.976: 1, 5952.976: 1, 8209.976: 1, 6200.976: 1, 4303.976: 1, 6326.976: 1, 7297.976: 1, 4606.976: 1, 5823.976: 1, 6376.976: 1, 7651.976: 1, 5999.976: 1, 5412.976: 1, 8433.976: 1, 5693.976: 1, 7794.976: 1, 6310.976: 1, 4535.976: 1, 5351.976: 1, 3631.9759999999997: 1, 4919.976: 1, 5182.976: 1, 10129.976: 1, 5947.976: 1, 8621.976: 1, 2952.9759999999997: 1, 8136.976: 1, 6765.976: 1, 6981.976: 1, 5195.976: 1, 8183.976: 1, 1909.976: 1, 5203.976: 1, 4413.976: 1, 6939.976: 1, 4377.976: 1, 7280.976: 1, 3570.9759999999997: 1, 9246.976: 1, 5231.976: 1, 5765.976: 1, 6316.976: 1, 8736.976: 1, 5060.976: 1, 6868.976: 1, 5680.976: 1, 6849.976: 1, 5883.976: 1, 4632.976: 1, 4333.976: 1, 5154.976: 1, 8199.976: 1, 5708.976: 1, 4594.976: 1, 5541.976: 1, 7388.976: 1, 7502.976: 1, 4031.9759999999997: 1, 7437.976: 1, 9099.976: 1, 4691.976: 1, 3111.9759999999997: 1, 5235.976: 1, 6881.976: 1, 7010.976: 1, 7469.976: 1, 4775.976: 1, 7626.976: 1, 4778.976: 1, 8871.976: 1, 5202.976: 1, 4541.976: 1, 9940.976: 1, 9123.976: 1, 5326.976: 1, 5766.976: 1, 4021.9759999999997: 1, 9428.976: 1, 5983.976: 1, 6555.976: 1, 3219.9759999999997: 1, 5196.976: 1, 7749.976: 1, 7654.976: 1, 5344.976: 1, 6675.976: 1, 8658.976: 1, 6258.976: 1, 5080.976: 1, 6147.976: 1, 8428.976: 1, 5139.976: 1, 4281.976: 1, 8062.976: 1, 8779.976: 1, 8946.976: 1, 7155.976: 1, 7009.976: 1, 8274.976: 1, 9508.976: 1, 7585.976: 1, 8008.976: 1, 8694.976: 1, 8504.976: 1, 9516.976: 1, 3692.9759999999997: 1, 9061.976: 1, 7105.976: 1, 3023.9759999999997: 1, 6723.976: 1, 3755.9759999999997: 1, 4103.976: 1, 9195.976: 1, 9573.976: 1, 4791.976: 1, 7407.976: 1, 8344.976: 1, 5517.976: 1, 6059.976: 1, 7569.976: 1, 7067.976: 1, 3046.9759999999997: 1, 6417.976: 1, 6538.976: 1, 5210.976: 1, 4427.976: 1, 6025.976: 1, 5190.976: 1, 5064.976: 1, 9197.976: 1, 8005.976: 1, 5649.976: 1, 8920.976: 1, 3966.9759999999997: 1, 9076.976: 1, 7302.976: 1, 6738.976: 1, 9087.976: 1, 4325.976: 1, 6111.976: 1, 6418.976: 1, 2980.9759999999997: 1, 7336.976: 1, 6193.976: 1, 6640.976: 1, 6170.976: 1, 7874.976: 1, 7560.976: 1, 5778.976: 1, 2882.9759999999997: 1, 4966.976: 1, 4081.9759999999997: 1, 3285.9759999999997: 1, 8002.976: 1, 9484.976: 1, 4930.976: 1, 7982.976: 1, 7001.976: 1, 9152.976: 1, 6154.976: 1, 6965.976: 1, 4863.976: 1, 5140.976: 1, 2806.9759999999997: 1, 8248.976: 1, 5378.976: 1, 2225.976: 1, 6885.976: 1, 9418.976: 1, 3690.9759999999997: 1, 8256.976: 1, 2783.9759999999997: 1, 8121.976: 1, 4848.976: 1, 9286.976: 1, 5409.976: 1, 7343.976: 1, 8723.976: 1, 6011.976: 1, 5215.976: 1, 8347.976: 1, 3721.9759999999997: 1, 4433.976: 1, 5319.976: 1, 6886.976: 1, 8586.976: 1, 5159.976: 1, 5004.976: 1, 8134.976: 1, 4236.976: 1, 3777.9759999999997: 1, 3822.9759999999997: 1, 6574.976: 1, 7621.976: 1, 6778.976: 1, 6357.976: 1, 5345.976: 1, 4721.976: 1, 9305.976: 1, 5989.976: 1, 4870.976: 1, 9749.976: 1, 6365.976: 1, 7955.976: 1, 7630.976: 1, 3706.9759999999997: 1, 4315.976: 1, 5356.976: 1, 5610.976: 1, 6249.976: 1, 3309.9759999999997: 1, 6910.976: 1, 6988.976: 1, 2502.976: 1, 8915.976: 1, 4056.9759999999997: 1, 7941.976: 1, 2987.9759999999997: 1, 7866.976: 1, 3947.9759999999997: 1, 8014.976: 1, 3333.9759999999997: 1, 3234.9759999999997: 1, 6498.976: 1, 5134.976: 1, 3541.9759999999997: 1, 4350.976: 1, 8190.976: 1, 3148.9759999999997: 1, 8366.976: 1, 7588.976: 1, 10322.976: 1, 3476.9759999999997: 1, 7457.976: 1, 5362.976: 1, 2144.976: 1, 8030.976: 1, 4516.976: 1, 4838.976: 1, 5050.976: 1, 7436.976: 1, 7495.976: 1, 4536.976: 1, 4531.976: 1, 4254.976: 1, 9842.976: 1, 8072.976: 1, 7463.976: 1, 7681.976: 1, 3843.9759999999997: 1, 4582.976: 1, 3932.9759999999997: 1, 7720.976: 1, 4084.9759999999997: 1, 9660.976: 1, 7716.976: 1, 5597.976: 1, 6924.976: 1, 4903.976: 1, 6194.976: 1, 7024.976: 1, 9887.976: 1, 6565.976: 1, 3914.9759999999997: 1, 9019.976: 1, 7264.976: 1, 7144.976: 1, 6406.976: 1, 5287.976: 1, 4804.976: 1, 8334.976: 1, 8276.976: 1, 8317.976: 1, 2862.9759999999997: 1, 3371.9759999999997: 1, 8175.976: 1, 5447.976: 1, 7483.976: 1, 9982.976: 1, 6035.976: 1, 5592.976: 1, 4441.976: 1, 5826.976: 1, 7804.976: 1, 9507.976: 1, 8777.976: 1, 7552.976: 1, 5938.976: 1, 8315.976: 1, 2293.976: 1, 8825.976: 1, 2680.9759999999997: 1, 8981.976: 1, 8869.976: 1, 5685.976: 1, 5744.976: 1, 8179.976: 1, 4734.976: 1, 6086.976: 1, 6031.976: 1, 8036.976: 1, 7774.976: 1, 4641.976: 1, 7174.976: 1, 8714.976: 1, 5684.976: 1, 6874.976: 1, 5757.976: 1, 8720.976: 1, 9178.976: 1, 6264.976: 1, 5473.976: 1, 8644.976: 1, 6998.976: 1, 5828.976: 1, 6658.976: 1, 6093.976: 1, 9170.976: 1, 10624.976: 1, 9355.976: 1, 7209.976: 1, 6944.976: 1, 5375.976: 1, 7861.976: 1, 7428.976: 1, 6914.976: 1, 5980.976: 1, 4275.976: 1, 7688.976: 1, 9041.976: 1, 6495.976: 1, 7213.976: 1, 7702.976: 1, 7657.976: 1, 8570.976: 1, 6795.976: 1, 4846.976: 1, 9667.976: 1, 7055.976: 1, 6722.976: 1, 6636.976: 1, 7058.976: 1, 5764.976: 1, 7243.976: 1, 5467.976: 1, 4695.976: 1, 6247.976: 1, 8979.976: 1, 5426.976: 1, 7235.976: 1, 8059.976: 1, 7139.976: 1, 8774.976: 1, 5852.976: 1, 9047.976: 1, 4479.976: 1, 3212.9759999999997: 1, 5556.976: 1, 2237.976: 1, 5098.976: 1, 5945.976: 1, 5779.976: 1, 10000.976: 1, 3534.9759999999997: 1, 8330.976: 1, 9857.976: 1, 6130.976: 1, 5862.976: 1, 9233.976: 1, 4258.976: 1, 3776.9759999999997: 1, 9589.976: 1, 7277.976: 1, 4447.976: 1, 5021.976: 1, 5963.976: 1, 1968.976: 1, 6684.976: 1, 7425.976: 1, 5267.976: 1, 7192.976: 1, 8664.976: 1, 4706.976: 1, 5792.976: 1, 4937.976: 1, 7989.976: 1, 4688.976: 1, 8368.976: 1, 4341.976: 1, 6471.976: 1, 6949.976: 1, 6960.976: 1, 5925.976: 1, 9318.976: 1, 4844.976: 1, 7597.976: 1, 4983.976: 1, 3313.9759999999997: 1, 5890.976: 1, 7002.976: 1, 7883.976: 1, 4133.976: 1, 7908.976: 1, 6362.976: 1, 7042.976: 1, 7462.976: 1, 4070.9759999999997: 1, 6742.976: 1, 6263.976: 1, 7052.976: 1, 6237.976: 1, 7831.976: 1, 7729.976: 1, 3829.9759999999997: 1, 7112.976: 1, 7678.976: 1, 5448.976: 1, 6843.976: 1, 6611.976: 1, 3884.9759999999997: 1, 6015.976: 1, 6061.976: 1, 6404.976: 1, 5477.976: 1, 6961.976: 1, 7136.976: 1, 9264.976: 1, 8321.976: 1, 5198.976: 1, 2929.9759999999997: 1, 7056.976: 1, 5105.976: 1, 2595.976: 1, 2270.976: 1, 6667.976: 1, 5333.976: 1, 3574.9759999999997: 1, 6437.976: 1, 8577.976: 1, 5868.976: 1, 1957.976: 1, 6607.976: 1, 6088.976: 1, 7167.976: 1, 4221.976: 1, 9043.976: 1, 8748.976: 1, 7696.976: 1, 9475.976: 1, 8596.976: 1, 7577.976: 1, 4457.976: 1, 4583.976: 1, 5419.976: 1, 5731.976: 1, 5848.976: 1, 3688.9759999999997: 1, 6927.976: 1, 6780.976: 1, 6023.976: 1, 6853.976: 1, 7187.976: 1, 10772.976: 1, 4508.976: 1, 2673.9759999999997: 1, 4287.976: 1, 8977.976: 1, 5553.976: 1, 9312.976: 1, 6244.976: 1, 9539.976: 1, 6372.976: 1, 5875.976: 1, 6176.976: 1, 5961.976: 1, 5183.976: 1, 5197.976: 1, 6682.976: 1, 5204.976: 1, 7850.976: 1, 5905.976: 1, 8125.976: 1, 8374.976: 1, 5904.976: 1, 6139.976: 1, 8468.976: 1, 5713.976: 1, 3429.9759999999997: 1, 8147.976: 1, 4085.9759999999997: 1, 4165.976: 1, 4080.9759999999997: 1, 8201.976: 1, 4884.976: 1, 5471.976: 1, 7751.976: 1, 4994.976: 1, 3020.9759999999997: 1, 10189.976: 1, 4746.976: 1, 5249.976: 1, 10242.976: 1, 4669.976: 1, 6560.976: 1, 6763.976: 1, 4049.9759999999997: 1, 6800.976: 1, 5976.976: 1, 5804.976: 1, 4854.976: 1, 8362.976: 1, 10556.976: 1, 7675.976: 1, 6303.976: 1, 4995.976: 1, 6307.976: 1, 7700.976: 1, 4423.976: 1, 5522.976: 1, 1616.976: 1, 6459.976: 1, 6808.976: 1, 7033.976: 1, 9058.976: 1, 3607.9759999999997: 1, 3314.9759999999997: 1, 7239.976: 1, 10337.976: 1, 6339.976: 1, 3606.9759999999997: 1, 8430.976: 1, 8738.976: 1, 9495.976: 1, 7403.976: 1, 4597.976: 1, 8778.976: 1, 5206.976: 1, 8611.976: 1, 8451.976: 1, 6676.976: 1, 7576.976: 1, 5937.976: 1, 8874.976: 1, 6021.976: 1, 7374.976: 1, 7870.976: 1, 4159.976: 1, 4068.9759999999997: 1, 7221.976: 1, 6375.976: 1, 5406.976: 1, 5568.976: 1, 6739.976: 1, 8615.976: 1, 4993.976: 1, 8974.976: 1, 5953.976: 1, 1894.976: 1, 7373.976: 1, 6430.976: 1, 4153.976: 1, 5582.976: 1, 7008.976: 1, 5232.976: 1, 6355.976: 1, 4831.976: 1, 5316.976: 1, 9360.976: 1, 7530.976: 1, 5783.976: 1, 5994.976: 1, 8255.976: 1, 8148.976: 1, 6268.976: 1, 5655.976: 1, 3548.9759999999997: 1, 7198.976: 1, 8592.976: 1, 9494.976: 1, 7697.976: 1, 4710.976: 1, 9492.976: 1, 3575.9759999999997: 1, 7291.976: 1, 3920.9759999999997: 1, 7189.976: 1, 6814.976: 1, 9791.976: 1, 6803.976: 1, 6283.976: 1, 7537.976: 1, 5152.976: 1, 6298.976: 1, 7046.976: 1, 7522.976: 1, 4866.976: 1, 9878.976: 1, 6254.976: 1, 6581.976: 1, 5683.976: 1, 9463.976: 1, 10007.976: 1, 6934.976: 1, 5000.976: 1, 3905.9759999999997: 1, 6028.976: 1, 6911.976: 1, 9687.976: 1, 8168.976: 1, 7003.976: 1, 6840.976: 1, 6549.976: 1, 5468.976: 1, 7390.976: 1, 9643.976: 1, 5656.976: 1, 4038.9759999999997: 1, 5189.976: 1, 4550.976: 1, 3907.9759999999997: 1, 4776.976: 1, 6012.976: 1, 4990.976: 1, 5260.976: 1, 4043.9759999999997: 1, 8771.976: 1, 2214.976: 1, 10108.976: 1, 3270.9759999999997: 1, 5969.976: 1, 7612.976: 1, 6484.976: 1, 4054.9759999999997: 1, 5917.976: 1, 4989.976: 1, 7671.976: 1, 5246.976: 1, 7134.976: 1, 6855.976: 1, 4936.976: 1, 6854.976: 1, 7084.976: 1, 6159.976: 1, 7634.976: 1, 4022.9759999999997: 1, 7478.976: 1, 4949.976: 1, 7636.976: 1, 8332.976: 1, 5084.976: 1, 5987.976: 1, 5450.976: 1, 8689.976: 1, 2899.9759999999997: 1, 9891.976: 1, 4738.976: 1, 8057.976: 1, 4261.976: 1, 7886.976: 1, 8133.976: 1, 8985.976: 1, 9203.976: 1, 8157.976: 1, 6426.976: 1, 9198.976: 1, 3813.9759999999997: 1, 5428.976: 1, 6635.976: 1, 10040.976: 1, 3585.9759999999997: 1, 6322.976: 1, 6660.976: 1, 2963.9759999999997: 1, 6566.976: 1, 8614.976: 1, 7563.976: 1, 6971.976: 1, 3246.9759999999997: 1, 5110.976: 1, 5647.976: 1, 7561.976: 1, 9214.976: 1, 6987.976: 1, 3461.9759999999997: 1, 5051.976: 1, 9614.976: 1, 3413.9759999999997: 1, 6455.976: 1, 9642.976: 1, 6591.976: 1, 6444.976: 1, 6262.976: 1, 7725.976: 1, 6892.976: 1, 8789.976: 1, 7083.976: 1, 8797.976: 1, 4609.976: 1, 4923.976: 1, 5230.976: 1, 6578.976: 1, 5814.976: 1, 6596.976: 1, 7007.976: 1, 7499.976: 1, 10347.976: 1, 7062.976: 1, 7476.976: 1, 4183.976: 1, 6622.976: 1, 3912.9759999999997: 1, 8425.976: 1, 4852.976: 1, 5997.976: 1, 7760.976: 1, 8733.976: 1, 6231.976: 1, 3720.9759999999997: 1, 5334.976: 1, 9189.976: 1, 4097.976: 1, 5892.976: 1, 3176.9759999999997: 1, 5254.976: 1, 9140.976: 1, 3415.9759999999997: 1, 7270.976: 1, 8657.976: 1, 3003.9759999999997: 1, 6925.976: 1, 8996.976: 1, 4817.976: 1, 5642.976: 1, 3521.9759999999997: 1, 6705.976: 1, 7677.976: 1, 7949.976: 1, 6716.976: 1, 8105.976: 1, 5775.976: 1, 6848.976: 1, 9448.976: 1, 5795.976: 1, 3399.9759999999997: 1, 8571.976: 1, 8282.976: 1, 4851.976: 1, 4310.976: 1, 5700.976: 1, 4574.976: 1, 9580.976: 1, 8176.976: 1, 6669.976: 1, 6580.976: 1, 3851.9759999999997: 1, 4608.976: 1, 5031.976: 1, 6181.976: 1, 6364.976: 1, 7558.976: 1, 5315.976: 1, 8588.976: 1, 7601.976: 1, 3848.9759999999997: 1, 6100.976: 1, 2696.9759999999997: 1, 8964.976: 1, 3840.9759999999997: 1, 8752.976: 1, 3727.9759999999997: 1, 5955.976: 1, 3739.9759999999997: 1, 4756.976: 1, 7876.976: 1, 4768.976: 1, 3383.9759999999997: 1, 5888.976: 1, 5053.976: 1, 6071.976: 1, 5895.976: 1, 7546.976: 1, 2895.9759999999997: 1, 6175.976: 1, 4101.976: 1, 7386.976: 1, 6792.976: 1, 6846.976: 1, 3171.9759999999997: 1, 5740.976: 1, 8386.976: 1, 5138.976: 1, 5302.976: 1, 5682.976: 1, 4035.9759999999997: 1, 8106.976: 1, 6435.976: 1, 3798.9759999999997: 1, 6957.976: 1, 9015.976: 1, 8599.976: 1, 6271.976: 1, 7603.976: 1, 6563.976: 1, 6288.976: 1, 4108.976: 1, 7788.976: 1, 6496.976: 1, 6282.976: 1, 6571.976: 1, 8585.976: 1, 7369.976: 1, 6255.976: 1, 4913.976: 1, 7913.976: 1, 10784.976: 1, 7097.976: 1, 4227.976: 1, 5506.976: 1, 5990.976: 1, 8182.976: 1, 4816.976: 1, 3166.9759999999997: 1, 8219.976: 1, 5847.976: 1, 4780.976: 1, 3781.9759999999997: 1, 5768.976: 1, 6554.976: 1, 3183.9759999999997: 1, 6642.976: 1, 3536.9759999999997: 1, 8693.976: 1, 4845.976: 1, 5732.976: 1, 2965.9759999999997: 1, 3221.9759999999997: 1, 6401.976: 1, 5988.976: 1, 8590.976: 1, 5185.976: 1, 7176.976: 1, 6234.976: 1, 9052.976: 1, 4141.976: 1, 3378.9759999999997: 1, 6229.976: 1, 6883.976: 1, 4901.976: 1, 4720.976: 1, 3455.9759999999997: 1, 5049.976: 1, 8517.976: 1, 4116.976: 1, 3516.9759999999997: 1, 6040.976: 1, 5884.976: 1, 6140.976: 1, 7317.976: 1, 7079.976: 1, 5241.976: 1, 8355.976: 1, 7102.976: 1, 8028.976: 1, 5028.976: 1, 8655.976: 1, 7534.976: 1, 8784.976: 1, 8706.976: 1, 4257.976: 1, 6875.976: 1, 5899.976: 1, 3880.9759999999997: 1, 7571.976: 1, 6001.976: 1, 7035.976: 1, 7439.976: 1, 8440.976: 1, 8217.976: 1, 8724.976: 1, 5483.976: 1, 7538.976: 1, 8387.976: 1, 9846.976: 1, 6673.976: 1, 9276.976: 1, 9624.976: 1, 8488.976: 1, 6029.976: 1, 9130.976: 1, 8624.976: 1, 3568.9759999999997: 1, 5047.976: 1, 7723.976: 1, 6367.976: 1, 4307.976: 1, 3744.9759999999997: 1, 8831.976: 1, 8352.976: 1, 4099.976: 1, 7075.976: 1, 6967.976: 1, 4840.976: 1, 7623.976: 1, 9288.976: 1, 5913.976: 1, 7166.976: 1, 6828.976: 1, 5869.976: 1, 6547.976: 1, 4615.976: 1, 5415.976: 1, 5367.976: 1, 9289.976: 1, 4158.976: 1, 7292.976: 1, 7057.976: 1, 6837.976: 1, 7077.976: 1, 7287.976: 1, 8155.976: 1, 9163.976: 1, 9416.976: 1, 8021.976: 1, 7383.976: 1, 7143.976: 1, 5564.976: 1, 7168.976: 1, 9199.976: 1, 6278.976: 1, 6561.976: 1, 9627.976: 1, 6589.976: 1, 6246.976: 1, 3229.9759999999997: 1, 5587.976: 1, 6079.976: 1, 6190.976: 1, 4697.976: 1, 4888.976: 1, 5094.976: 1, 4475.976: 1, 8515.976: 1, 7260.976: 1, 7920.976: 1, 7848.976: 1, 7664.976: 1, 3376.9759999999997: 1, 9287.976: 1, 3571.9759999999997: 1, 5844.976: 1, 4599.976: 1, 5977.976: 1, 8886.976: 1, 8578.976: 1, 4426.976: 1, 5392.976: 1, 7632.976: 1, 7633.976: 1, 3746.9759999999997: 1, 6397.976: 1, 5136.976: 1, 5751.976: 1, 8000.976: 1, 8104.976: 1, 8744.976: 1, 8942.976: 1, 5309.976: 1, 4321.976: 1, 8346.976: 1, 4702.976: 1, 4826.976: 1, 5014.976: 1, 7984.976: 1, 5919.976: 1, 4412.976: 1, 10008.976: 1, 4652.976: 1, 8102.976: 1, 7986.976: 1, 6082.976: 1, 8674.976: 1, 10309.976: 1, 5771.976: 1, 6117.976: 1, 6101.976: 1, 5497.976: 1, 8027.976: 1, 4802.976: 1, 7202.976: 1, 3714.9759999999997: 1, 8769.976: 1, 8618.976: 1, 8668.976: 1, 7656.976: 1, 4026.9759999999997: 1, 7745.976: 1, 6033.976: 1, 8949.976: 1, 5933.976: 1, 4819.976: 1, 5533.976: 1, 3635.9759999999997: 1, 5390.976: 1, 5402.976: 1, 8372.976: 1, 5401.976: 1, 5150.976: 1, 8613.976: 1, 7301.976: 1, 5701.976: 1, 7344.976: 1, 3847.9759999999997: 1, 10631.976: 1, 7735.976: 1, 3707.9759999999997: 1, 5443.976: 1, 5791.976: 1, 3712.9759999999997: 1, 9075.976: 1, 7761.976: 1, 5070.976: 1, 4459.976: 1, 8745.976: 1, 9322.976: 1, 4796.976: 1, 7938.976: 1, 4885.976: 1, 8171.976: 1, 3458.9759999999997: 1, 6900.976: 1, 7363.976: 1, 2490.976: 1, 8206.976: 1, 8222.976: 1, 6757.976: 1, 7717.976: 1, 6572.976: 1, 6124.976: 1, 7533.976: 1, 7780.976: 1, 7233.976: 1, 7618.976: 1, 7322.976: 1, 5739.976: 1, 4627.976: 1, 4876.976: 1, 6692.976: 1, 8079.976: 1, 4130.976: 1, 4636.976: 1, 9352.976: 1, 9933.976: 1, 8292.976: 1, 7608.976: 1, 7853.976: 1, 5606.976: 1, 6882.976: 1, 6919.976: 1, 7864.976: 1, 7884.976: 1, 3849.9759999999997: 1, 4785.976: 1, 9095.976: 1, 6311.976: 1, 5177.976: 1, 4359.976: 1, 9272.976: 1, 9136.976: 1, 3931.9759999999997: 1, 9066.976: 1, 8968.976: 1, 4263.976: 1, 8640.976: 1, 8679.976: 1, 3420.9759999999997: 1, 6902.976: 1, 6402.976: 1, 3882.9759999999997: 1, 8309.976: 1, 9858.976: 1, 5851.976: 1, 3107.9759999999997: 1, 7662.976: 1, 7932.976: 1, 5435.976: 1, 3452.9759999999997: 1, 7587.976: 1, 7622.976: 1, 9422.976: 1, 4482.976: 1, 5374.976: 1, 4180.976: 1, 6192.976: 1, 4891.976: 1, 8058.976: 1, 5352.976: 1, 5559.976: 1, 7430.976: 1, 3909.9759999999997: 1, 9903.976: 1, 5264.976: 1, 9004.976: 1, 3457.9759999999997: 1, 8688.976: 1, 7375.976: 1, 5127.976: 1, 5330.976: 1, 7516.976: 1, 3467.9759999999997: 1, 7245.976: 1, 6284.976: 1, 3245.9759999999997: 1, 6036.976: 1, 8069.976: 1, 4781.976: 1, 5122.976: 1, 5803.976: 1, 8636.976: 1, 5256.976: 1, 9081.976: 1, 7205.976: 1, 6832.976: 1, 4927.976: 1, 3762.9759999999997: 1, 5147.976: 1, 8687.976: 1, 7845.976: 1, 6005.976: 1, 8410.976: 1, 3911.9759999999997: 1, 7854.976: 1, 5782.976: 1, 3811.9759999999997: 1, 8531.976: 1, 8847.976: 1, 8931.976: 1, 4186.976: 1, 3066.9759999999997: 1, 4741.976: 1, 4603.976: 1, 4494.976: 1, 8137.976: 1, 7567.976: 1, 6771.976: 1, 4503.976: 1, 4622.976: 1, 7903.976: 1, 6613.976: 1, 5090.976: 1, 5777.976: 1, 9740.976: 1, 7652.976: 1, 5846.976: 1, 7953.976: 1, 6491.976: 1, 3299.9759999999997: 1, 4230.976: 1, 2809.9759999999997: 1, 5776.976: 1, 5093.976: 1, 4065.9759999999997: 1, 5661.976: 1, 4521.976: 1, 6850.976: 1, 8162.976: 1, 6628.976: 1, 5561.976: 1, 8768.976: 1, 4234.976: 1, 4943.976: 1, 4036.9759999999997: 1, 4873.976: 1, 5696.976: 1, 8211.976: 1, 8912.976: 1, 8754.976: 1, 9118.976: 1, 5012.976: 1, 9809.976: 1, 5843.976: 1, 5076.976: 1, 3926.9759999999997: 1, 9464.976: 1, 3423.9759999999997: 1, 7680.976: 1, 4312.976: 1, 4467.976: 1, 5266.976: 1, 6521.976: 1, 6930.976: 1, 8849.976: 1, 2925.9759999999997: 1, 4502.976: 1, 6097.976: 1, 4806.976: 1, 4409.976: 1, 5278.976: 1, 6434.976: 1, 8467.976: 1, 9023.976: 1, 4545.976: 1, 4904.976: 1, 7909.976: 1, 5387.976: 1, 7408.976: 1, 4039.9759999999997: 1, 9245.976: 1, 6169.976: 1, 5162.976: 1, 6986.976: 1, 8024.976: 1, 4520.976: 1, 9359.976: 1, 6215.976: 1, 3738.9759999999997: 1, 6476.976: 1, 6006.976: 1, 7208.976: 1, 6715.976: 1, 6639.976: 1, 7261.976: 1, 3470.9759999999997: 1, 8320.976: 1, 7012.976: 1, 8598.976: 1, 6766.976: 1, 5400.976: 1, 5903.976: 1, 8135.976: 1, 6953.976: 1, 8928.976: 1, 7061.976: 1, 9011.976: 1, 6253.976: 1, 8293.976: 1, 8883.976: 1, 3989.9759999999997: 1, 8140.976: 1, 7842.976: 1, 8669.976: 1, 5363.976: 1, 5250.976: 1, 5397.976: 1, 6687.976: 1, 4811.976: 1, 9083.976: 1, 5104.976: 1, 8475.976: 1, 3723.9759999999997: 1, 3797.9759999999997: 1, 4847.976: 1, 7782.976: 1, 7088.976: 1, 3353.9759999999997: 1, 4371.976: 1, 8582.976: 1, 7013.976: 1, 6727.976: 1, 9529.976: 1, 3158.9759999999997: 1, 7237.976: 1, 5508.976: 1, 6048.976: 1, 9572.976: 1, 8393.976: 1, 4564.976: 1, 6649.976: 1, 5491.976: 1, 3385.9759999999997: 1, 7398.976: 1, 4465.976: 1, 9995.976: 1, 6000.976: 1, 8361.976: 1, 6065.976: 1, 5074.976: 1, 6218.976: 1, 8254.976: 1, 8511.976: 1, 6774.976: 1, 7147.976: 1, 3687.9759999999997: 1, 5889.976: 1, 6422.976: 1, 8016.976: 1, 8413.976: 1, 5546.976: 1, 7911.976: 1, 6647.976: 1, 4676.976: 1, 5958.976: 1, 6373.976: 1, 4410.976: 1, 7305.976: 1, 7930.976: 1, 4123.976: 1, 7786.976: 1, 6590.976: 1, 8053.976: 1, 6034.976: 1, 5885.976: 1, 3557.9759999999997: 1, 4499.976: 1, 5881.976: 1, 7536.976: 1, 8281.976: 1, 5982.976: 1, 10041.976: 1, 4425.976: 1, 5509.976: 1, 7203.976: 1, 6112.976: 1, 6184.976: 1, 7875.976: 1, 2522.976: 1, 8108.976: 1, 5633.976: 1, 8575.976: 1, 5295.976: 1, 6711.976: 1, 5773.976: 1, 7517.976: 1, 4202.976: 1, 4595.976: 1, 4690.976: 1, 9527.976: 1, 5628.976: 1, 9446.976: 1, 8307.976: 1, 8568.976: 1, 8419.976: 1, 5239.976: 1, 4784.976: 1, 6594.976: 1, 8091.976: 1, 9564.976: 1, 7181.976: 1, 8163.976: 1, 4717.976: 1, 8172.976: 1, 8457.976: 1, 7863.976: 1, 7259.976: 1, 6830.976: 1, 8727.976: 1, 8803.976: 1, 8662.976: 1, 5669.976: 1, 3626.9759999999997: 1, 5580.976: 1, 7746.976: 1, 5645.976: 1})\n"
     ]
    }
   ],
   "source": [
    "from collections import Counter\n",
    "counter = Counter(hw_abt_2_byuser_B['metric_value'])\n",
    "print(counter)"
   ]
  },
  {
   "cell_type": "markdown",
   "metadata": {},
   "source": [
    "Проверив выборки на совпадающие значения, приходим к выводу, что можно применить критерий U-критерий Манни-Уитни для независимых  выборок. Почему выборки независимы? Из условия задачи видно, что в группе А и группе В разные люди, поэтому их решения можно считать незаивисмыми. Так как распределение отличается от нормального по результатам тестов выше, то применить t-критерий Стъюдента нельзя."
   ]
  },
  {
   "cell_type": "code",
   "execution_count": 45,
   "metadata": {},
   "outputs": [
    {
     "name": "stdout",
     "output_type": "stream",
     "text": [
      "Diffs is notsignificant\n",
      "\n"
     ]
    }
   ],
   "source": [
    "\n",
    "from scipy.stats import mannwhitneyu\n",
    "alpha = 0.05\n",
    "st = mannwhitneyu(hw_abt_2_byuser_A['metric_value'], hw_abt_2_byuser_B['metric_value'])\n",
    "print('Diffs is {}significant\\n'.format( {True:'not', False:''}[st[1] < alpha]))"
   ]
  },
  {
   "cell_type": "markdown",
   "metadata": {},
   "source": [
    "На 5% уровне значимости тест дает, что значимых различий между выборками нет"
   ]
  },
  {
   "cell_type": "markdown",
   "metadata": {},
   "source": [
    "Метрика: share_visits\n",
    "\n",
    "\n",
    "В данном случае, имеется большое количество совпадающих значений. Попробуем убрать все нулевые значения, так как они нам неочень интересны. Мы рассматриваем те случаи, когда пользователи все же сделади целевое действие."
   ]
  },
  {
   "cell_type": "code",
   "execution_count": 46,
   "metadata": {},
   "outputs": [],
   "source": [
    "share_visits_A=share_visits_A[share_visits_A !=0]\n",
    "share_visits_B=share_visits_B[share_visits_B !=0]"
   ]
  },
  {
   "cell_type": "code",
   "execution_count": 47,
   "metadata": {},
   "outputs": [
    {
     "name": "stdout",
     "output_type": "stream",
     "text": [
      "Counter({0.5: 54, 0.1: 40, 0.3333333333333333: 38, 0.25: 36, 0.4: 32, 0.34277785891631374: 28, 0.6666666666666666: 27, 0.18181818181818182: 23, 0.3697809988971168: 23, 0.3076923076923077: 23, 0.6: 22, 0.40140242859586117: 22, 0.36363636363636365: 20, 0.75: 20, 0.1111111111111111: 19, 0.4389377220871517: 19, 0.4375: 18, 0.5714285714285714: 17, 0.2: 17, 0.35714285714285715: 17, 0.125: 16, 0.2727272727272727: 15, 0.625: 15, 0.5625: 15, 0.3: 15, 0.38461538461538464: 14, 0.4666666666666667: 14, 0.42857142857142855: 14, 0.4166666666666667: 14, 0.14285714285714285: 13, 0.2222222222222222: 13, 0.375: 13, 0.46153846153846156: 13, 0.5263157894736842: 12, 0.47058823529411764: 12, 0.7: 11, 0.5555555555555556: 11, 0.6111111111111112: 11, 0.7142857142857143: 11, 0.5333333333333333: 11, 0.7272727272727273: 10, 0.2857142857142857: 9, 0.6875: 9, 0.5384615384615384: 9, 0.8: 8, 0.71875: 8, 0.5789473684210527: 8, 0.5294117647058824: 8, 0.6956521739130435: 8, 0.6785714285714286: 8, 0.64: 8, 0.5909090909090909: 8, 0.6153846153846154: 7, 0.45454545454545453: 7, 0.8571428571428571: 7, 0.8333333333333334: 7, 0.5454545454545454: 6, 0.68: 6, 0.6363636363636364: 6, 0.6428571428571429: 6, 0.6923076923076923: 6, 0.6896551724137931: 6, 0.7777777777777778: 6, 0.7692307692307693: 6, 0.16666666666666666: 5, 0.6086956521739131: 5, 0.55: 5, 0.5399125833908444: 5, 0.65: 5, 0.6818181818181818: 5, 0.8125: 5, 0.7037037037037037: 5, 0.84: 5, 0.72: 5, 0.6190476190476191: 5, 0.4444444444444444: 5, 0.7894736842105263: 4, 0.6100857811281518: 4, 0.7333333333333333: 4, 0.7878787878787878: 4, 0.7727272727272727: 4, 0.631578947368421: 4, 0.6470588235294118: 4, 0.7567567567567568: 4, 0.7857142857142857: 4, 0.7096774193548387: 3, 0.7419354838709677: 3, 0.7666666666666667: 3, 0.7804878048780488: 3, 0.6521739130434783: 3, 0.8947368421052632: 3, 0.7916666666666666: 3, 1.0: 3, 0.8888888888888888: 3, 0.782608695652174: 3, 0.875: 3, 0.9090909090909091: 3, 0.8367346938775511: 3, 0.775: 3, 0.5882352941176471: 2, 0.6538461538461539: 2, 0.8484848484848485: 2, 0.9: 2, 0.8095238095238095: 2, 0.8461538461538461: 2, 0.7368421052631579: 2, 0.7948717948717948: 2, 0.7352941176470589: 2, 0.8064516129032258: 2, 0.7931034482758621: 2, 0.8148148148148148: 2, 0.8076923076923077: 2, 0.7083333333333334: 2, 0.8235294117647058: 2, 0.8108108108108109: 2, 0.7407407407407407: 2, 0.7012249775918733: 2, 0.8709677419354839: 2, 0.85: 2, 0.76: 2, 0.9230769230769231: 2, 0.84375: 2, 0.7222222222222222: 2, 0.8372093023255814: 2, 0.95: 1, 0.8787878787878788: 1, 0.78125: 1, 0.8536585365853658: 1, 0.7058823529411765: 1, 0.9047619047619048: 1, 0.9056603773584906: 1, 0.8653846153846154: 1, 0.8936170212765957: 1, 0.8431372549019608: 1, 0.8837209302325582: 1, 0.9375: 1, 0.7241379310344828: 1, 0.8518518518518519: 1, 0.8205128205128205: 1, 0.8163265306122449: 1, 0.9428571428571428: 1, 0.9607843137254902: 1, 0.8478260869565217: 1, 0.8490566037735849: 1, 0.7586206896551724: 1, 0.8387096774193549: 1, 0.9130434782608695: 1, 0.9069767441860465: 1, 0.7741935483870968: 1, 0.9411764705882353: 1, 0.7714285714285715: 1, 0.864406779661017: 1, 0.86: 1, 0.7575757575757576: 1, 0.8813559322033898: 1, 0.7631578947368421: 1, 0.9032258064516129: 1, 0.896551724137931: 1, 0.8928571428571429: 1, 0.8666666666666667: 1, 0.9041095890410958: 1, 0.8055555555555556: 1, 0.8444444444444444: 1, 0.8857142857142857: 1, 0.9166666666666666: 1, 0.8823529411764706: 1, 0.8285714285714286: 1, 0.9259259259259259: 1, 0.8214285714285714: 1, 0.8904109589041096: 1, 0.5833333333333334: 1, 0.7619047619047619: 1, 0.8611111111111112: 1, 0.8939393939393939: 1, 0.8620689655172413: 1, 0.8181818181818182: 1, 0.4842170414689499: 1, 0.6842105263157895: 1})\n"
     ]
    }
   ],
   "source": [
    "from collections import Counter\n",
    "counter = Counter(share_visits_A)\n",
    "print(counter)"
   ]
  },
  {
   "cell_type": "markdown",
   "metadata": {},
   "source": [
    "Однако, даже без нулей у нас очень много повторяющихся значений. Критерий U-критерий Манни-Уитни не подойдет. Критерий Крускала-Уоллиса является обощением U-критерий Манни-Уитни и тоже не подходит.Так как распределение отличается от нормального по результатам тестов выше, то применить t-критерий Стъюдента нельзя. Из представленных на лекции критериев, я не могу применить ни один. Для доли ушедших от нас пользователей считаю возможным применить обычный знаковый критерий. В данном случае, нулевая гипотеза - это что медиана распределения равна 1/2."
   ]
  },
  {
   "cell_type": "markdown",
   "metadata": {},
   "source": [
    "Метрика: share_churn_users\n"
   ]
  },
  {
   "cell_type": "code",
   "execution_count": 83,
   "metadata": {},
   "outputs": [],
   "source": [
    "\n",
    "\n",
    "import scipy.stats\n",
    "from statsmodels.stats.descriptivestats import sign_test"
   ]
  },
  {
   "cell_type": "code",
   "execution_count": 84,
   "metadata": {},
   "outputs": [
    {
     "name": "stdout",
     "output_type": "stream",
     "text": [
      "M: -18, p-value: 0.299700\n"
     ]
    }
   ],
   "source": [
    "print( \"M: %d, p-value: %f\" % sign_test(share_churn_users_A, 0.5))"
   ]
  },
  {
   "cell_type": "code",
   "execution_count": 85,
   "metadata": {},
   "outputs": [
    {
     "name": "stdout",
     "output_type": "stream",
     "text": [
      "M: -371, p-value: 0.000000\n"
     ]
    }
   ],
   "source": [
    "print( \"M: %d, p-value: %f\" % sign_test(share_churn_users_B, 0.5))"
   ]
  },
  {
   "cell_type": "markdown",
   "metadata": {},
   "source": [
    "Как мы видим, для контрольной выборки действительно медиана равна 0.5 на 5% уровне значимости, а вот для экспериментальной выборки это совсем не так. И по p-value мы отклоняем нулевую гипотезу. Таким косвенным методом, можно сказать, что выборки значимо отличаются. Следовательно, соотношение между потерянными пользователями и всеми пользователями изменилось."
   ]
  },
  {
   "cell_type": "markdown",
   "metadata": {},
   "source": [
    "# Размер выборки и время"
   ]
  },
  {
   "cell_type": "markdown",
   "metadata": {},
   "source": [
    "Хотя тесты показали, что распределение для метрики metric_value не является нормальным, QQ- plot показал большую близость этого распределения к нормальному. Попробуем определить необходимый размер выборки как для нормального распределения."
   ]
  },
  {
   "cell_type": "code",
   "execution_count": 101,
   "metadata": {},
   "outputs": [
    {
     "name": "stdout",
     "output_type": "stream",
     "text": [
      "Sample Size: 25.525\n"
     ]
    }
   ],
   "source": [
    "import numpy as np\n",
    "from statsmodels.stats.power import TTestIndPower\n",
    "# parameters for power analysis\n",
    "effect = 0.8\n",
    "alpha = 0.05\n",
    "power = 0.8\n",
    "# perform power analysis\n",
    "analysis = TTestIndPower()\n",
    "result = analysis.solve_power(effect, power=power,\n",
    "nobs1=None, ratio=1.0, alpha=alpha)\n",
    "print('Sample Size: %.3f' % result)"
   ]
  },
  {
   "cell_type": "markdown",
   "metadata": {},
   "source": [
    "Как мы видим, размер выборки при заданных параметрах гораздо меньше, чем имеющийся в нашем распоряжении, следовательно - выборки могут значимо отличаться(но не обязательно отличаются). \n",
    "Я не могу с уверенностью говорить, почему значимого отличия нет. Отмечу, что для метрики share_churn_users такое отличие есть и проблема может быть связана с самой предложеной метрикой metric_value(она непрезентативна или ошибочна).\n",
    "Возможно, причина может быть в том, что распределение этой метрики не является нормальным."
   ]
  },
  {
   "cell_type": "markdown",
   "metadata": {},
   "source": [
    "# Гистограммы и диаграммы размаха"
   ]
  },
  {
   "cell_type": "code",
   "execution_count": 106,
   "metadata": {},
   "outputs": [
    {
     "data": {
      "text/plain": [
       "<AxesSubplot:ylabel='Frequency'>"
      ]
     },
     "execution_count": 106,
     "metadata": {},
     "output_type": "execute_result"
    },
    {
     "data": {
      "image/png": "[encoded data removed]",
      "text/plain": [
       "<Figure size 432x288 with 1 Axes>"
      ]
     },
     "metadata": {
      "needs_background": "light"
     },
     "output_type": "display_data"
    }
   ],
   "source": [
    "hw_abt_2_byuser_A['metric_value'].plot.hist(bins=100)"
   ]
  },
  {
   "cell_type": "code",
   "execution_count": 107,
   "metadata": {},
   "outputs": [
    {
     "data": {
      "text/plain": [
       "<AxesSubplot:ylabel='Frequency'>"
      ]
     },
     "execution_count": 107,
     "metadata": {},
     "output_type": "execute_result"
    },
    {
     "data": {
      "image/png": "[encoded data removed]",
      "text/plain": [
       "<Figure size 432x288 with 1 Axes>"
      ]
     },
     "metadata": {
      "needs_background": "light"
     },
     "output_type": "display_data"
    }
   ],
   "source": [
    "hw_abt_2_byuser_B['metric_value'].plot.hist(bins=100)"
   ]
  },
  {
   "cell_type": "code",
   "execution_count": 108,
   "metadata": {},
   "outputs": [
    {
     "data": {
      "text/plain": [
       "<AxesSubplot:>"
      ]
     },
     "execution_count": 108,
     "metadata": {},
     "output_type": "execute_result"
    },
    {
     "data": {
      "image/png": "[encoded data removed]",
      "text/plain": [
       "<Figure size 432x288 with 1 Axes>"
      ]
     },
     "metadata": {
      "needs_background": "light"
     },
     "output_type": "display_data"
    }
   ],
   "source": [
    "import matplotlib.pyplot as plt\n",
    "hw_abt_2_byuser_A['metric_value'].plot.box()\n"
   ]
  },
  {
   "cell_type": "code",
   "execution_count": 109,
   "metadata": {},
   "outputs": [
    {
     "data": {
      "text/plain": [
       "<AxesSubplot:>"
      ]
     },
     "execution_count": 109,
     "metadata": {},
     "output_type": "execute_result"
    },
    {
     "data": {
      "image/png": "[encoded data removed]",
      "text/plain": [
       "<Figure size 432x288 with 1 Axes>"
      ]
     },
     "metadata": {
      "needs_background": "light"
     },
     "output_type": "display_data"
    }
   ],
   "source": [
    "import matplotlib.pyplot as plt\n",
    "hw_abt_2_byuser_B['metric_value'].plot.box()"
   ]
  },
  {
   "cell_type": "markdown",
   "metadata": {},
   "source": [
    "Гистограмма метрики metric_value похожа на гистограмму нормально распределенной величины, но она более заострена к верху. Для экспериментальной группы значения в среднем выше, чем для контрольной."
   ]
  },
  {
   "cell_type": "code",
   "execution_count": 111,
   "metadata": {},
   "outputs": [
    {
     "data": {
      "text/plain": [
       "<AxesSubplot:ylabel='Frequency'>"
      ]
     },
     "execution_count": 111,
     "metadata": {},
     "output_type": "execute_result"
    },
    {
     "data": {
      "image/png": "[encoded data removed]",
      "text/plain": [
       "<Figure size 432x288 with 1 Axes>"
      ]
     },
     "metadata": {
      "needs_background": "light"
     },
     "output_type": "display_data"
    }
   ],
   "source": [
    "share_visits_A.plot.hist(bins=100)"
   ]
  },
  {
   "cell_type": "code",
   "execution_count": 112,
   "metadata": {},
   "outputs": [
    {
     "data": {
      "text/plain": [
       "<AxesSubplot:ylabel='Frequency'>"
      ]
     },
     "execution_count": 112,
     "metadata": {},
     "output_type": "execute_result"
    },
    {
     "data": {
      "image/png": "[encoded data removed]",
      "text/plain": [
       "<Figure size 432x288 with 1 Axes>"
      ]
     },
     "metadata": {
      "needs_background": "light"
     },
     "output_type": "display_data"
    }
   ],
   "source": [
    "share_visits_B.plot.hist(bins=100)"
   ]
  },
  {
   "cell_type": "code",
   "execution_count": 113,
   "metadata": {},
   "outputs": [
    {
     "data": {
      "text/plain": [
       "<AxesSubplot:>"
      ]
     },
     "execution_count": 113,
     "metadata": {},
     "output_type": "execute_result"
    },
    {
     "data": {
      "image/png": "[encoded data removed]",
      "text/plain": [
       "<Figure size 432x288 with 1 Axes>"
      ]
     },
     "metadata": {
      "needs_background": "light"
     },
     "output_type": "display_data"
    }
   ],
   "source": [
    "share_visits_A.plot.box()"
   ]
  },
  {
   "cell_type": "code",
   "execution_count": 114,
   "metadata": {},
   "outputs": [
    {
     "data": {
      "text/plain": [
       "<AxesSubplot:>"
      ]
     },
     "execution_count": 114,
     "metadata": {},
     "output_type": "execute_result"
    },
    {
     "data": {
      "image/png": "[encoded data removed]",
      "text/plain": [
       "<Figure size 432x288 with 1 Axes>"
      ]
     },
     "metadata": {
      "needs_background": "light"
     },
     "output_type": "display_data"
    }
   ],
   "source": [
    "share_visits_B.plot.box()"
   ]
  },
  {
   "cell_type": "markdown",
   "metadata": {},
   "source": [
    "Гистограмма метрики share_visits совсем непохожа на гистограмму нормально распределенной величины и имеет явную дискретность. По боксплоту трудно сказать о каком-либо отличии данной метрики для двух выборок."
   ]
  },
  {
   "cell_type": "code",
   "execution_count": 116,
   "metadata": {},
   "outputs": [
    {
     "data": {
      "text/plain": [
       "<AxesSubplot:ylabel='Frequency'>"
      ]
     },
     "execution_count": 116,
     "metadata": {},
     "output_type": "execute_result"
    },
    {
     "data": {
      "image/png": "[encoded data removed]",
      "text/plain": [
       "<Figure size 432x288 with 1 Axes>"
      ]
     },
     "metadata": {
      "needs_background": "light"
     },
     "output_type": "display_data"
    }
   ],
   "source": [
    "share_churn_users_A.plot.hist(bins=100)"
   ]
  },
  {
   "cell_type": "code",
   "execution_count": 117,
   "metadata": {},
   "outputs": [
    {
     "data": {
      "text/plain": [
       "<AxesSubplot:ylabel='Frequency'>"
      ]
     },
     "execution_count": 117,
     "metadata": {},
     "output_type": "execute_result"
    },
    {
     "data": {
      "image/png": "[encoded data removed]",
      "text/plain": [
       "<Figure size 432x288 with 1 Axes>"
      ]
     },
     "metadata": {
      "needs_background": "light"
     },
     "output_type": "display_data"
    }
   ],
   "source": [
    "share_churn_users_B.plot.hist(bins=100)"
   ]
  },
  {
   "cell_type": "code",
   "execution_count": 118,
   "metadata": {},
   "outputs": [
    {
     "data": {
      "text/plain": [
       "<AxesSubplot:>"
      ]
     },
     "execution_count": 118,
     "metadata": {},
     "output_type": "execute_result"
    },
    {
     "data": {
      "image/png": "[encoded data removed]",
      "text/plain": [
       "<Figure size 432x288 with 1 Axes>"
      ]
     },
     "metadata": {
      "needs_background": "light"
     },
     "output_type": "display_data"
    }
   ],
   "source": [
    "share_churn_users_A.plot.box()"
   ]
  },
  {
   "cell_type": "code",
   "execution_count": 119,
   "metadata": {},
   "outputs": [
    {
     "data": {
      "text/plain": [
       "<AxesSubplot:>"
      ]
     },
     "execution_count": 119,
     "metadata": {},
     "output_type": "execute_result"
    },
    {
     "data": {
      "image/png": "[encoded data removed]",
      "text/plain": [
       "<Figure size 432x288 with 1 Axes>"
      ]
     },
     "metadata": {
      "needs_background": "light"
     },
     "output_type": "display_data"
    }
   ],
   "source": [
    "share_churn_users_B.plot.box()"
   ]
  },
  {
   "cell_type": "markdown",
   "metadata": {},
   "source": [
    "Гистограмма метрики share_churn_users имеет 3 значения(специфика данных) и по боксплоту и по гистограммам мы видим, что для двух выборок имеются значимые отличия. Доля ушедших пользователей гораздо ниже для экспериментальной группы. По этому параметру влияние изменений положительно. Для более детального решения, этих результатов недостаточно и необходимо дальнейшее исследование."
   ]
  },
  {
   "cell_type": "code",
   "execution_count": null,
   "metadata": {},
   "outputs": [],
   "source": []
  }
 ],
 "metadata": {
  "kernelspec": {
   "display_name": "Python 3",
   "language": "python",
   "name": "python3"
  },
  "language_info": {
   "codemirror_mode": {
    "name": "ipython",
    "version": 3
   },
   "file_extension": ".py",
   "mimetype": "text/x-python",
   "name": "python",
   "nbconvert_exporter": "python",
   "pygments_lexer": "ipython3",
   "version": "3.7.9"
  }
 },
 "nbformat": 4,
 "nbformat_minor": 4
}
